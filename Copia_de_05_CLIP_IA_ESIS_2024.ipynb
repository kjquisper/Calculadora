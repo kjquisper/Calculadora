{
  "cells": [
    {
      "cell_type": "markdown",
      "metadata": {
        "id": "view-in-github",
        "colab_type": "text"
      },
      "source": [
        "<a href=\"https://colab.research.google.com/github/kjquisper/Calculadora/blob/main/Copia_de_05_CLIP_IA_ESIS_2024.ipynb\" target=\"_parent\"><img src=\"https://colab.research.google.com/assets/colab-badge.svg\" alt=\"Open In Colab\"/></a>"
      ]
    },
    {
      "cell_type": "markdown",
      "metadata": {
        "id": "GSkZuQkX3I9x"
      },
      "source": [
        "# 5. CLIP"
      ]
    },
    {
      "cell_type": "code",
      "source": [
        "!wget https://github.com/ichaparroc/IA-ESIS-UNJBG/raw/main/GenAI.zip\n",
        "!unzip GenAI.zip"
      ],
      "metadata": {
        "id": "AnkxMx6d5Xif",
        "colab": {
          "base_uri": "https://localhost:8080/",
          "height": 0
        },
        "outputId": "db0c5c30-8643-4ce2-840d-b132872672f4"
      },
      "execution_count": 1,
      "outputs": [
        {
          "output_type": "stream",
          "name": "stdout",
          "text": [
            "--2024-07-31 20:09:48--  https://github.com/ichaparroc/IA-ESIS-UNJBG/raw/main/GenAI.zip\n",
            "Resolving github.com (github.com)... 20.205.243.166\n",
            "Connecting to github.com (github.com)|20.205.243.166|:443... connected.\n",
            "HTTP request sent, awaiting response... 302 Found\n",
            "Location: https://raw.githubusercontent.com/ichaparroc/IA-ESIS-UNJBG/main/GenAI.zip [following]\n",
            "--2024-07-31 20:09:48--  https://raw.githubusercontent.com/ichaparroc/IA-ESIS-UNJBG/main/GenAI.zip\n",
            "Resolving raw.githubusercontent.com (raw.githubusercontent.com)... 185.199.108.133, 185.199.109.133, 185.199.110.133, ...\n",
            "Connecting to raw.githubusercontent.com (raw.githubusercontent.com)|185.199.108.133|:443... connected.\n",
            "HTTP request sent, awaiting response... 200 OK\n",
            "Length: 24221606 (23M) [application/zip]\n",
            "Saving to: ‘GenAI.zip’\n",
            "\n",
            "GenAI.zip           100%[===================>]  23.10M  --.-KB/s    in 0.08s   \n",
            "\n",
            "2024-07-31 20:09:49 (304 MB/s) - ‘GenAI.zip’ saved [24221606/24221606]\n",
            "\n",
            "Archive:  GenAI.zip\n",
            "   creating: images/\n",
            "  inflating: images/24459750_eb49f6e4cb_m.jpg  \n",
            "  inflating: images/assess_task.png  \n",
            "  inflating: images/bernoulli.png    \n",
            "  inflating: images/broadcasting.png  \n",
            "  inflating: images/DLI_Header.png   \n",
            "  inflating: images/FMUNet.png       \n",
            "  inflating: images/groupnorm.png    \n",
            "  inflating: images/jl_launcher.png  \n",
            "  inflating: images/normal.png       \n",
            "  inflating: images/rev_diffusion.png  \n",
            "  inflating: images/shirt_shoe.png   \n",
            "  inflating: images/shoe_maybe.png   \n",
            "  inflating: images/time_nn.png      \n",
            "  inflating: images/weighted_reverse_diffusion.png  \n",
            "   creating: utils/\n",
            "  inflating: utils/ddpm_utils.py     \n",
            "  inflating: utils/other_utils.py    \n",
            "  inflating: utils/UNet_utils.py     \n",
            "   creating: 04_images/\n",
            " extracting: 04_images/.gitkeep      \n",
            "   creating: 05_images/\n",
            " extracting: 05_images/.gitkeep      \n",
            "   creating: data/\n",
            "   creating: data/cropped_flowers/\n",
            "   creating: data/cropped_flowers/daisy/\n",
            "  inflating: data/cropped_flowers/daisy/100080576_f52e8ee070_n.jpg  \n",
            "  inflating: data/cropped_flowers/daisy/10140303196_b88d3d6cec.jpg  \n",
            "  inflating: data/cropped_flowers/daisy/10172567486_2748826a8b.jpg  \n",
            "  inflating: data/cropped_flowers/daisy/10172636503_21bededa75_n.jpg  \n",
            "  inflating: data/cropped_flowers/daisy/102841525_bd6628ae3c.jpg  \n",
            "  inflating: data/cropped_flowers/daisy/1031799732_e7f4008c03.jpg  \n",
            "  inflating: data/cropped_flowers/daisy/10437754174_22ec990b77_m.jpg  \n",
            "  inflating: data/cropped_flowers/daisy/10437929963_bc13eebe0c.jpg  \n",
            "  inflating: data/cropped_flowers/daisy/10466290366_cc72e33532.jpg  \n",
            "  inflating: data/cropped_flowers/daisy/10466558316_a7198b87e2.jpg  \n",
            "  inflating: data/cropped_flowers/daisy/10559679065_50d2b16f6d.jpg  \n",
            "  inflating: data/cropped_flowers/daisy/105806915_a9c13e2106_n.jpg  \n",
            "  inflating: data/cropped_flowers/daisy/10712722853_5632165b04.jpg  \n",
            "  inflating: data/cropped_flowers/daisy/107592979_aaa9cdfe78_m.jpg  \n",
            "  inflating: data/cropped_flowers/daisy/10770585085_4742b9dac3_n.jpg  \n",
            "  inflating: data/cropped_flowers/daisy/10841136265_af473efc60.jpg  \n",
            "  inflating: data/cropped_flowers/daisy/10993710036_2033222c91.jpg  \n",
            "  inflating: data/cropped_flowers/daisy/10993818044_4c19b86c82.jpg  \n",
            "  inflating: data/cropped_flowers/daisy/10994032453_ac7f8d9e2e.jpg  \n",
            "  inflating: data/cropped_flowers/daisy/11023214096_b5b39fab08.jpg  \n",
            "  inflating: data/cropped_flowers/daisy/11023272144_fce94401f2_m.jpg  \n",
            "  inflating: data/cropped_flowers/daisy/11023277956_8980d53169_m.jpg  \n",
            "  inflating: data/cropped_flowers/daisy/11124324295_503f3a0804.jpg  \n",
            "  inflating: data/cropped_flowers/daisy/1140299375_3aa7024466.jpg  \n",
            "  inflating: data/cropped_flowers/daisy/11439894966_dca877f0cd.jpg  \n",
            "  inflating: data/cropped_flowers/daisy/1150395827_6f94a5c6e4_n.jpg  \n",
            "  inflating: data/cropped_flowers/daisy/11642632_1e7627a2cc.jpg  \n",
            "  inflating: data/cropped_flowers/daisy/11834945233_a53b7a92ac_m.jpg  \n",
            "  inflating: data/cropped_flowers/daisy/11870378973_2ec1919f12.jpg  \n",
            "  inflating: data/cropped_flowers/daisy/11891885265_ccefec7284_n.jpg  \n",
            "  inflating: data/cropped_flowers/daisy/12193032636_b50ae7db35_n.jpg  \n",
            "  inflating: data/cropped_flowers/daisy/12348343085_d4c396e5b5_m.jpg  \n",
            "  inflating: data/cropped_flowers/daisy/12585131704_0f64b17059_m.jpg  \n",
            "  inflating: data/cropped_flowers/daisy/12601254324_3cb62c254a_m.jpg  \n",
            "  inflating: data/cropped_flowers/daisy/1265350143_6e2b276ec9.jpg  \n",
            "  inflating: data/cropped_flowers/daisy/12701063955_4840594ea6_n.jpg  \n",
            "  inflating: data/cropped_flowers/daisy/1285423653_18926dc2c8_n.jpg  \n",
            "  inflating: data/cropped_flowers/daisy/1286274236_1d7ac84efb_n.jpg  \n",
            "  inflating: data/cropped_flowers/daisy/1299501272_59d9da5510_n.jpg  \n",
            "  inflating: data/cropped_flowers/daisy/1314069875_da8dc023c6_m.jpg  \n",
            "  inflating: data/cropped_flowers/daisy/1342002397_9503c97b49.jpg  \n",
            "  inflating: data/cropped_flowers/daisy/134409839_71069a95d1_m.jpg  \n",
            "  inflating: data/cropped_flowers/daisy/1344985627_c3115e2d71_n.jpg  \n",
            "  inflating: data/cropped_flowers/daisy/13491959645_2cd9df44d6_n.jpg  \n",
            "  inflating: data/cropped_flowers/daisy/1354396826_2868631432_m.jpg  \n",
            "  inflating: data/cropped_flowers/daisy/13583238844_573df2de8e_m.jpg  \n",
            "  inflating: data/cropped_flowers/daisy/1374193928_a52320eafa.jpg  \n",
            "  inflating: data/cropped_flowers/daisy/13826249325_f61cb15f86_n.jpg  \n",
            "  inflating: data/cropped_flowers/daisy/13901930939_a7733c03f0_n.jpg  \n",
            "  inflating: data/cropped_flowers/daisy/1392131677_116ec04751.jpg  \n",
            "  inflating: data/cropped_flowers/daisy/1392946544_115acbb2d9.jpg  \n",
            "  inflating: data/cropped_flowers/daisy/13953307149_f8de6a768c_m.jpg  \n",
            "  inflating: data/cropped_flowers/daisy/13977181862_f8237b6b52.jpg  \n",
            "  inflating: data/cropped_flowers/daisy/14021430525_e06baf93a9.jpg  \n",
            "  inflating: data/cropped_flowers/daisy/14073784469_ffb12f3387_n.jpg  \n",
            "  inflating: data/cropped_flowers/daisy/14114116486_0bb6649bc1_m.jpg  \n",
            "  inflating: data/cropped_flowers/daisy/14147016029_8d3cf2414e.jpg  \n",
            "  inflating: data/cropped_flowers/daisy/14167534527_781ceb1b7a_n.jpg  \n",
            "  inflating: data/cropped_flowers/daisy/14167543177_cd36b54ac6_n.jpg  \n",
            "  inflating: data/cropped_flowers/daisy/14219214466_3ca6104eae_m.jpg  \n",
            "  inflating: data/cropped_flowers/daisy/14221836990_90374e6b34.jpg  \n",
            "  inflating: data/cropped_flowers/daisy/14221848160_7f0a37c395.jpg  \n",
            "  inflating: data/cropped_flowers/daisy/14245834619_153624f836.jpg  \n",
            "  inflating: data/cropped_flowers/daisy/14264136211_9531fbc144.jpg  \n",
            "  inflating: data/cropped_flowers/daisy/14272874304_47c0a46f5a.jpg  \n",
            "  inflating: data/cropped_flowers/daisy/14307766919_fac3c37a6b_m.jpg  \n",
            "  inflating: data/cropped_flowers/daisy/14330343061_99478302d4_m.jpg  \n",
            "  inflating: data/cropped_flowers/daisy/14332947164_9b13513c71_m.jpg  \n",
            "  inflating: data/cropped_flowers/daisy/14333681205_a07c9f1752_m.jpg  \n",
            "  inflating: data/cropped_flowers/daisy/14350958832_29bdd3a254.jpg  \n",
            "  inflating: data/cropped_flowers/daisy/14354051035_1037b30421_n.jpg  \n",
            "  inflating: data/cropped_flowers/daisy/14372713423_61e2daae88.jpg  \n",
            "  inflating: data/cropped_flowers/daisy/14399435971_ea5868c792.jpg  \n",
            "  inflating: data/cropped_flowers/daisy/144076848_57e1d662e3_m.jpg  \n",
            "  inflating: data/cropped_flowers/daisy/1441939151_b271408c8d_n.jpg  \n",
            "  inflating: data/cropped_flowers/daisy/144603918_b9de002f60_m.jpg  \n",
            "  inflating: data/cropped_flowers/daisy/14471433500_cdaa22e3ea_m.jpg  \n",
            "  inflating: data/cropped_flowers/daisy/14485782498_fb342ec301.jpg  \n",
            "  inflating: data/cropped_flowers/daisy/14507818175_05219b051c_m.jpg  \n",
            "  inflating: data/cropped_flowers/daisy/14551098743_2842e7a004_n.jpg  \n",
            "  inflating: data/cropped_flowers/daisy/14554906452_35f066ffe9_n.jpg  \n",
            "  inflating: data/cropped_flowers/daisy/14591326135_930703dbed_m.jpg  \n",
            "  inflating: data/cropped_flowers/daisy/14600779226_7bbc288d40_m.jpg  \n",
            "  inflating: data/cropped_flowers/daisy/14613443462_d4ed356201.jpg  \n",
            "  inflating: data/cropped_flowers/daisy/14698531521_0c2f0c6539.jpg  \n",
            "  inflating: data/cropped_flowers/daisy/147068564_32bb4350cc.jpg  \n",
            "  inflating: data/cropped_flowers/daisy/14707111433_cce08ee007.jpg  \n",
            "  inflating: data/cropped_flowers/daisy/14716799982_ed6d626a66.jpg  \n",
            "  inflating: data/cropped_flowers/daisy/14816364517_2423021484_m.jpg  \n",
            "  inflating: data/cropped_flowers/daisy/14866200659_6462c723cb_m.jpg  \n",
            "  inflating: data/cropped_flowers/daisy/14921511479_7b0a647795.jpg  \n",
            "  inflating: data/cropped_flowers/daisy/15029936576_8d6f96c72c_n.jpg  \n",
            "  inflating: data/cropped_flowers/daisy/15207766_fc2f1d692c_n.jpg  \n",
            "  inflating: data/cropped_flowers/daisy/15306268004_4680ba95e1.jpg  \n",
            "  inflating: data/cropped_flowers/daisy/153210866_03cc9f2f36.jpg  \n",
            "  inflating: data/cropped_flowers/daisy/15327813273_06cdf42210.jpg  \n",
            "  inflating: data/cropped_flowers/daisy/15760153042_a2a90e9da5_m.jpg  \n",
            "  inflating: data/cropped_flowers/daisy/15853110333_229c439e7f.jpg  \n",
            "  inflating: data/cropped_flowers/daisy/158869618_f1a6704236_n.jpg  \n",
            "  inflating: data/cropped_flowers/daisy/16025261368_911703a536_n.jpg  \n",
            "  inflating: data/cropped_flowers/daisy/16121105382_b96251e506_m.jpg  \n",
            "  inflating: data/cropped_flowers/daisy/16161045294_70c76ce846_n.jpg  \n",
            "  inflating: data/cropped_flowers/daisy/162362896_99c7d851c8_n.jpg  \n",
            "  inflating: data/cropped_flowers/daisy/162362897_1d21b70621_m.jpg  \n",
            "  inflating: data/cropped_flowers/daisy/16291797949_a1b1b7c2bd_n.jpg  \n",
            "  inflating: data/cropped_flowers/daisy/16360180712_b72695928c_n.jpg  \n",
            "  inflating: data/cropped_flowers/daisy/163978992_8128b49d3e_n.jpg  \n",
            "  inflating: data/cropped_flowers/daisy/16401288243_36112bd52f_m.jpg  \n",
            "  inflating: data/cropped_flowers/daisy/16737503507_431768a927.jpg  \n",
            "  inflating: data/cropped_flowers/daisy/16819071290_471d99e166_m.jpg  \n",
            "  inflating: data/cropped_flowers/daisy/16833748795_b681b2839f_n.jpg  \n",
            "  inflating: data/cropped_flowers/daisy/169371301_d9b91a2a42.jpg  \n",
            "  inflating: data/cropped_flowers/daisy/17027891179_3edc08f4f6.jpg  \n",
            "  inflating: data/cropped_flowers/daisy/171972704_389cf7a953.jpg  \n",
            "  inflating: data/cropped_flowers/daisy/17249393016_093e915012_n.jpg  \n",
            "  inflating: data/cropped_flowers/daisy/172882635_4cc7b86731_m.jpg  \n",
            "  inflating: data/cropped_flowers/daisy/172967318_c596d082cc.jpg  \n",
            "  inflating: data/cropped_flowers/daisy/174131220_c853df1287.jpg  \n",
            "  inflating: data/cropped_flowers/daisy/175106495_53ebdef092_n.jpg  \n",
            "  inflating: data/cropped_flowers/daisy/176375506_201859bb92_m.jpg  \n",
            "  inflating: data/cropped_flowers/daisy/18023717391_e2c9089e10.jpg  \n",
            "  inflating: data/cropped_flowers/daisy/18195689904_46619b7e16_n.jpg  \n",
            "  inflating: data/cropped_flowers/daisy/18400014056_2e4c601ed5.jpg  \n",
            "  inflating: data/cropped_flowers/daisy/18622672908_eab6dc9140_n.jpg  \n",
            "  inflating: data/cropped_flowers/daisy/18684594849_7dd3634f5e_n.jpg  \n",
            "  inflating: data/cropped_flowers/daisy/18711159980_11d3bd5042.jpg  \n",
            "  inflating: data/cropped_flowers/daisy/1879567877_8ed2a5faa7_n.jpg  \n",
            "  inflating: data/cropped_flowers/daisy/18901817451_43e2b45f6c.jpg  \n",
            "  inflating: data/cropped_flowers/daisy/19178753159_a471bf4b6b.jpg  \n",
            "  inflating: data/cropped_flowers/daisy/19280272025_57de24e940_m.jpg  \n",
            "  inflating: data/cropped_flowers/daisy/19544831049_0d738d4872_m.jpg  \n",
            "  inflating: data/cropped_flowers/daisy/1955336401_fbb206d6ef_n.jpg  \n",
            "  inflating: data/cropped_flowers/daisy/19813618946_93818db7aa_m.jpg  \n",
            "  inflating: data/cropped_flowers/daisy/2001380507_19488ff96a_n.jpg  \n",
            "  inflating: data/cropped_flowers/daisy/2019064575_7656b9340f_m.jpg  \n",
            "  inflating: data/cropped_flowers/daisy/2045022175_ad087f5f60_n.jpg  \n",
            "  inflating: data/cropped_flowers/daisy/2057816617_18448093d0_n.jpg  \n",
            "  inflating: data/cropped_flowers/daisy/20685027271_0e7306e7c1_n.jpg  \n",
            "  inflating: data/cropped_flowers/daisy/20703737132_179560d0fb.jpg  \n",
            "  inflating: data/cropped_flowers/daisy/20773528301_008fcbc5a1_n.jpg  \n",
            "  inflating: data/cropped_flowers/daisy/2077865117_9ed85191ae_n.jpg  \n",
            "  inflating: data/cropped_flowers/daisy/2087343668_ef4fb95787_n.jpg  \n",
            "  inflating: data/cropped_flowers/daisy/21626652132_97e1318bb8_m.jpg  \n",
            "  inflating: data/cropped_flowers/daisy/21652746_cc379e0eea_m.jpg  \n",
            "  inflating: data/cropped_flowers/daisy/21805938544_bf6bb0e4bc.jpg  \n",
            "  inflating: data/cropped_flowers/daisy/2213954589_c7da4b1486.jpg  \n",
            "  inflating: data/cropped_flowers/daisy/22244161124_53e457bb66_n.jpg  \n",
            "  inflating: data/cropped_flowers/daisy/2331133004_582772d58f_m.jpg  \n",
            "  inflating: data/cropped_flowers/daisy/2346726545_2ebce2b2a6.jpg  \n",
            "  inflating: data/cropped_flowers/daisy/2365428551_39f83f10bf_n.jpg  \n",
            "  inflating: data/cropped_flowers/daisy/2408024540_37f0be7cc0_n.jpg  \n",
            "  inflating: data/cropped_flowers/daisy/2454280135_ac3aa75cdc_n.jpg  \n",
            "  inflating: data/cropped_flowers/daisy/2454280137_e1637536ae_n.jpg  \n",
            "  inflating: data/cropped_flowers/daisy/2473825306_62fd5f8785_n.jpg  \n",
            "  inflating: data/cropped_flowers/daisy/2476937534_21b285aa46_n.jpg  \n",
            "  inflating: data/cropped_flowers/daisy/2480569557_f4e1f0dcb8_n.jpg  \n",
            "  inflating: data/cropped_flowers/daisy/2488902131_3417698611_n.jpg  \n",
            "  inflating: data/cropped_flowers/daisy/2498632196_e47a472d5a.jpg  \n",
            "  inflating: data/cropped_flowers/daisy/2509545845_99e79cb8a2_n.jpg  \n",
            "  inflating: data/cropped_flowers/daisy/2511306240_9047015f2d_n.jpg  \n",
            "  inflating: data/cropped_flowers/daisy/2514748602_343d4727c0_n.jpg  \n",
            "  inflating: data/cropped_flowers/daisy/2521408074_e6f86daf21_n.jpg  \n",
            "  inflating: data/cropped_flowers/daisy/25360380_1a881a5648.jpg  \n",
            "  inflating: data/cropped_flowers/daisy/2536529152_33ef3ee078_n.jpg  \n",
            "  inflating: data/cropped_flowers/daisy/2538504987_fe524b92a8_n.jpg  \n",
            "  inflating: data/cropped_flowers/daisy/2539552964_921cf645ba_n.jpg  \n",
            "  inflating: data/cropped_flowers/daisy/2551708158_1f10e81e11.jpg  \n",
            "  inflating: data/cropped_flowers/daisy/2556503265_63ae6b9e0e_m.jpg  \n",
            "  inflating: data/cropped_flowers/daisy/2561352120_7961d8263f.jpg  \n",
            "  inflating: data/cropped_flowers/daisy/2573240560_ff7ffdd449.jpg  \n",
            "  inflating: data/cropped_flowers/daisy/2579018590_74359dcf1a_m.jpg  \n",
            "  inflating: data/cropped_flowers/daisy/2590291468_2635d3e4e0_n.jpg  \n",
            "  inflating: data/cropped_flowers/daisy/2599662355_7782218c83.jpg  \n",
            "  inflating: data/cropped_flowers/daisy/2612704455_efce1c2144_m.jpg  \n",
            "  inflating: data/cropped_flowers/daisy/2619413565_61a6cd3ac9_m.jpg  \n",
            "  inflating: data/cropped_flowers/daisy/2621723097_736febb4a4_n.jpg  \n",
            "  inflating: data/cropped_flowers/daisy/2627815904_919373e7f5.jpg  \n",
            "  inflating: data/cropped_flowers/daisy/2632216904_274aa17433.jpg  \n",
            "  inflating: data/cropped_flowers/daisy/2642408410_61545fdc83_n.jpg  \n",
            "  inflating: data/cropped_flowers/daisy/2646438199_b309cffd65_n.jpg  \n",
            "  inflating: data/cropped_flowers/daisy/2649404904_b7a91991bb_n.jpg  \n",
            "  inflating: data/cropped_flowers/daisy/2666572212_2caca8de9f_n.jpg  \n",
            "  inflating: data/cropped_flowers/daisy/267148092_4bb874af58.jpg  \n",
            "  inflating: data/cropped_flowers/daisy/2713919471_301fcc941f.jpg  \n",
            "  inflating: data/cropped_flowers/daisy/2812442552_3eed5fb9f2_m.jpg  \n",
            "  inflating: data/cropped_flowers/daisy/2838487505_6c3b48efa5_m.jpg  \n",
            "  inflating: data/cropped_flowers/daisy/2862944799_45bc8e7302.jpg  \n",
            "  inflating: data/cropped_flowers/daisy/286875003_f7c0e1882d.jpg  \n",
            "  inflating: data/cropped_flowers/daisy/2877860110_a842f8b14a_m.jpg  \n",
            "  inflating: data/cropped_flowers/daisy/2901376034_cdb4bac26b_m.jpg  \n",
            "  inflating: data/cropped_flowers/daisy/2908212142_5437fa67ff_n.jpg  \n",
            "  inflating: data/cropped_flowers/daisy/294451721_5106537b34.jpg  \n",
            "  inflating: data/cropped_flowers/daisy/299129811_d6ebda9970.jpg  \n",
            "  inflating: data/cropped_flowers/daisy/301964511_fab84ea1c1.jpg  \n",
            "  inflating: data/cropped_flowers/daisy/3025866885_22fb0b61c6_n.jpg  \n",
            "  inflating: data/cropped_flowers/daisy/302782756_d35cb3e468.jpg  \n",
            "  inflating: data/cropped_flowers/daisy/305160642_53cde0f44f.jpg  \n",
            "  inflating: data/cropped_flowers/daisy/3080880039_4f1bd592e5_n.jpg  \n",
            "  inflating: data/cropped_flowers/daisy/3275951182_d27921af97_n.jpg  \n",
            "  inflating: data/cropped_flowers/daisy/3310644753_5607eb96a4_m.jpg  \n",
            "  inflating: data/cropped_flowers/daisy/3326037909_b5ae370722_n.jpg  \n",
            "  inflating: data/cropped_flowers/daisy/3336704121_cfeb67a7d7.jpg  \n",
            "  inflating: data/cropped_flowers/daisy/3337536080_1db19964fe.jpg  \n",
            "  inflating: data/cropped_flowers/daisy/3338077096_3a8ed0e2bc_m.jpg  \n",
            "  inflating: data/cropped_flowers/daisy/3356112863_75da8bca2c_m.jpg  \n",
            "  inflating: data/cropped_flowers/daisy/3379332157_04724f6480.jpg  \n",
            "  inflating: data/cropped_flowers/daisy/3386988684_bc5a66005e.jpg  \n",
            "  inflating: data/cropped_flowers/daisy/3410906335_37e8a24b1c_n.jpg  \n",
            "  inflating: data/cropped_flowers/daisy/3415180846_d7b5cced14_m.jpg  \n",
            "  inflating: data/cropped_flowers/daisy/3440366251_5b9bdf27c9_m.jpg  \n",
            "  inflating: data/cropped_flowers/daisy/3445110406_0c1616d2e3_n.jpg  \n",
            "  inflating: data/cropped_flowers/daisy/3450822975_7e77d67636_n.jpg  \n",
            "  inflating: data/cropped_flowers/daisy/3456403987_5bd5fa6ece_n.jpg  \n",
            "  inflating: data/cropped_flowers/daisy/3463313493_9497aa47e5_n.jpg  \n",
            "  inflating: data/cropped_flowers/daisy/3468498624_d082f99e98.jpg  \n",
            "  inflating: data/cropped_flowers/daisy/3474942718_c418dae6f1.jpg  \n",
            "  inflating: data/cropped_flowers/daisy/3483303007_42e3f90da7.jpg  \n",
            "  inflating: data/cropped_flowers/daisy/3491933306_43cfe2cfbe.jpg  \n",
            "  inflating: data/cropped_flowers/daisy/3506866918_61dd5fc53b_n.jpg  \n",
            "  inflating: data/cropped_flowers/daisy/3533954656_79156c8473.jpg  \n",
            "  inflating: data/cropped_flowers/daisy/3625257860_33efeef614_m.jpg  \n",
            "  inflating: data/cropped_flowers/daisy/3628485766_4ff937954a_n.jpg  \n",
            "  inflating: data/cropped_flowers/daisy/3633489595_a037a9b7a4_m.jpg  \n",
            "  inflating: data/cropped_flowers/daisy/3637428148_a1dcccafa9_n.jpg  \n",
            "  inflating: data/cropped_flowers/daisy/3639009391_0f910681b7.jpg  \n",
            "  inflating: data/cropped_flowers/daisy/3640845041_80a92c4205_n.jpg  \n",
            "  inflating: data/cropped_flowers/daisy/3661613900_b15ca1d35d_m.jpg  \n",
            "  inflating: data/cropped_flowers/daisy/367020749_3c9a652d75.jpg  \n",
            "  inflating: data/cropped_flowers/daisy/3695826945_9f374e8a00_m.jpg  \n",
            "  inflating: data/cropped_flowers/daisy/3699235066_fc09a02dfe_m.jpg  \n",
            "  inflating: data/cropped_flowers/daisy/3706420943_66f3214862_n.jpg  \n",
            "  inflating: data/cropped_flowers/daisy/3711723108_65247a3170.jpg  \n",
            "  inflating: data/cropped_flowers/daisy/3713290261_8a66de23ab.jpg  \n",
            "  inflating: data/cropped_flowers/daisy/3717746329_53f515c6a6_m.jpg  \n",
            "  inflating: data/cropped_flowers/daisy/3750250718_eb61146c5f.jpg  \n",
            "  inflating: data/cropped_flowers/daisy/3750771898_cfd50090ba_n.jpg  \n",
            "  inflating: data/cropped_flowers/daisy/3758221664_b19116d61f.jpg  \n",
            "  inflating: data/cropped_flowers/daisy/3764116502_f394428ee0_n.jpg  \n",
            "  inflating: data/cropped_flowers/daisy/3780380240_ef9ec1b737_m.jpg  \n",
            "  inflating: data/cropped_flowers/daisy/3861452393_14d2f95157_m.jpg  \n",
            "  inflating: data/cropped_flowers/daisy/3957488431_52a447c0e8_m.jpg  \n",
            "  inflating: data/cropped_flowers/daisy/3962240986_0661edc43a_n.jpg  \n",
            "  inflating: data/cropped_flowers/daisy/3963330924_6c6a3fa7be_n.jpg  \n",
            "  inflating: data/cropped_flowers/daisy/4065883015_4bb6010cb7_n.jpg  \n",
            "  inflating: data/cropped_flowers/daisy/4117918318_3c8935289b_m.jpg  \n",
            "  inflating: data/cropped_flowers/daisy/413815348_764ae83088.jpg  \n",
            "  inflating: data/cropped_flowers/daisy/4141147800_813f660b47.jpg  \n",
            "  inflating: data/cropped_flowers/daisy/422094774_28acc69a8b_n.jpg  \n",
            "  inflating: data/cropped_flowers/daisy/4229503616_9b8a42123c_n.jpg  \n",
            "  inflating: data/cropped_flowers/daisy/4276898893_609d11db8b.jpg  \n",
            "  inflating: data/cropped_flowers/daisy/4278442064_a5a598524b_m.jpg  \n",
            "  inflating: data/cropped_flowers/daisy/4281102584_c548a69b81_m.jpg  \n",
            "  inflating: data/cropped_flowers/daisy/4286053334_a75541f20b_m.jpg  \n",
            "  inflating: data/cropped_flowers/daisy/4318007511_e9f4311936_n.jpg  \n",
            "  inflating: data/cropped_flowers/daisy/433037739_6a030e5912.jpg  \n",
            "  inflating: data/cropped_flowers/daisy/4333085242_bbeb3e2841_m.jpg  \n",
            "  inflating: data/cropped_flowers/daisy/433837534_1dbf798b73.jpg  \n",
            "  inflating: data/cropped_flowers/daisy/43474673_7bb4465a86.jpg  \n",
            "  inflating: data/cropped_flowers/daisy/437859108_173fb33c98.jpg  \n",
            "  inflating: data/cropped_flowers/daisy/4434592930_6610d51fca_m.jpg  \n",
            "  inflating: data/cropped_flowers/daisy/4440480869_632ce6aff3_n.jpg  \n",
            "  inflating: data/cropped_flowers/daisy/446484749_4044affcaf_n.jpg  \n",
            "  inflating: data/cropped_flowers/daisy/4496202781_1d8e776ff5_n.jpg  \n",
            "  inflating: data/cropped_flowers/daisy/450128527_fd35742d44.jpg  \n",
            "  inflating: data/cropped_flowers/daisy/4534460263_8e9611db3c_n.jpg  \n",
            "  inflating: data/cropped_flowers/daisy/4538877108_3c793f7987_m.jpg  \n",
            "  inflating: data/cropped_flowers/daisy/4565255237_9ba29c4d4e_n.jpg  \n",
            "  inflating: data/cropped_flowers/daisy/4581199679_867652c3f1_n.jpg  \n",
            "  inflating: data/cropped_flowers/daisy/4598422221_b37313a3e3_n.jpg  \n",
            "  inflating: data/cropped_flowers/daisy/4613992315_143ccc2a10_m.jpg  \n",
            "  inflating: data/cropped_flowers/daisy/4646886118_b5c5ceaf6d_n.jpg  \n",
            "  inflating: data/cropped_flowers/daisy/4657354814_f368762c53_m.jpg  \n",
            "  inflating: data/cropped_flowers/daisy/4666648087_b10f376f19.jpg  \n",
            "  inflating: data/cropped_flowers/daisy/4668543441_79040ca329_n.jpg  \n",
            "  inflating: data/cropped_flowers/daisy/4669117051_ce61e91b76.jpg  \n",
            "  inflating: data/cropped_flowers/daisy/4683997791_56e7d3c03c_n.jpg  \n",
            "  inflating: data/cropped_flowers/daisy/4694730335_2553e77aa5_z.jpg  \n",
            "  inflating: data/cropped_flowers/daisy/4694734757_5c563d38dd_n.jpg  \n",
            "  inflating: data/cropped_flowers/daisy/4724713781_d169f98a35.jpg  \n",
            "  inflating: data/cropped_flowers/daisy/4753134939_8e87649db6.jpg  \n",
            "  inflating: data/cropped_flowers/daisy/4757448834_a29a9538c9_n.jpg  \n",
            "  inflating: data/cropped_flowers/daisy/476856232_7c35952f40_n.jpg  \n",
            "  inflating: data/cropped_flowers/daisy/476857510_d2b30175de_n.jpg  \n",
            "  inflating: data/cropped_flowers/daisy/4814515275_6e25a6c18f.jpg  \n",
            "  inflating: data/cropped_flowers/daisy/4837182901_69a6cc782b_n.jpg  \n",
            "  inflating: data/cropped_flowers/daisy/483886997_27ee798327.jpg  \n",
            "  inflating: data/cropped_flowers/daisy/4851353993_2cbbbd1040_n.jpg  \n",
            "  inflating: data/cropped_flowers/daisy/4865691548_00319261b8.jpg  \n",
            "  inflating: data/cropped_flowers/daisy/488202750_c420cbce61.jpg  \n",
            "  inflating: data/cropped_flowers/daisy/4897587985_f9293ea1ed.jpg  \n",
            "  inflating: data/cropped_flowers/daisy/498159452_b71afd65ba.jpg  \n",
            "  inflating: data/cropped_flowers/daisy/4993492878_11fd4f5d12.jpg  \n",
            "  inflating: data/cropped_flowers/daisy/5014137563_d03eb0ed75_n.jpg  \n",
            "  inflating: data/cropped_flowers/daisy/5054771689_00dd40b971_n.jpg  \n",
            "  inflating: data/cropped_flowers/daisy/5058708968_8bdcd29e63_n.jpg  \n",
            "  inflating: data/cropped_flowers/daisy/506018088_4f7a15a7c5_n.jpg  \n",
            "  inflating: data/cropped_flowers/daisy/506348009_9ecff8b6ef.jpg  \n",
            "  inflating: data/cropped_flowers/daisy/510844526_858b8fe4db.jpg  \n",
            "  inflating: data/cropped_flowers/daisy/5109508979_68e3530791_m.jpg  \n",
            "  inflating: data/cropped_flowers/daisy/5110105726_53eb7a93be_m.jpg  \n",
            "  inflating: data/cropped_flowers/daisy/5110107234_12ddc0206b_m.jpg  \n",
            "  inflating: data/cropped_flowers/daisy/5110109540_beed4ed162_m.jpg  \n",
            "  inflating: data/cropped_flowers/daisy/5110110938_9da91455c4_m.jpg  \n",
            "  inflating: data/cropped_flowers/daisy/512177035_70afc925c8.jpg  \n",
            "  inflating: data/cropped_flowers/daisy/5133243796_44de429de5_m.jpg  \n",
            "  inflating: data/cropped_flowers/daisy/5135131051_102d4878ca_n.jpg  \n",
            "  inflating: data/cropped_flowers/daisy/520752848_4b87fb91a4.jpg  \n",
            "  inflating: data/cropped_flowers/daisy/521762040_f26f2e08dd.jpg  \n",
            "  inflating: data/cropped_flowers/daisy/525780443_bba812c26a_m.jpg  \n",
            "  inflating: data/cropped_flowers/daisy/534547364_3f6b7279d2_n.jpg  \n",
            "  inflating: data/cropped_flowers/daisy/538920244_59899a78f8_n.jpg  \n",
            "  inflating: data/cropped_flowers/daisy/5434742166_35773eba57_m.jpg  \n",
            "  inflating: data/cropped_flowers/daisy/5434901893_4550be3f84_m.jpg  \n",
            "  inflating: data/cropped_flowers/daisy/5434913005_409c1e8b56_n.jpg  \n",
            "  inflating: data/cropped_flowers/daisy/5434914569_e9b982fde0_n.jpg  \n",
            "  inflating: data/cropped_flowers/daisy/5435513198_90ce39f1aa_n.jpg  \n",
            "  inflating: data/cropped_flowers/daisy/5435521200_92029bbe2b_n.jpg  \n",
            "  inflating: data/cropped_flowers/daisy/5435522104_1d6a61b431_n.jpg  \n",
            "  inflating: data/cropped_flowers/daisy/54377391_15648e8d18.jpg  \n",
            "  inflating: data/cropped_flowers/daisy/5459481183_18d2d49e44_m.jpg  \n",
            "  inflating: data/cropped_flowers/daisy/5512287917_9f5d3f0f98_n.jpg  \n",
            "  inflating: data/cropped_flowers/daisy/5561775629_a2b709b3a4_n.jpg  \n",
            "  inflating: data/cropped_flowers/daisy/5574421625_61b1f49b3f_m.jpg  \n",
            "  inflating: data/cropped_flowers/daisy/5577555349_2e8490259b.jpg  \n",
            "  inflating: data/cropped_flowers/daisy/5602738326_97121e007d_n.jpg  \n",
            "  inflating: data/cropped_flowers/daisy/5623010186_796ca8d29a.jpg  \n",
            "  inflating: data/cropped_flowers/daisy/5626784099_b36dd3fb11_n.jpg  \n",
            "  inflating: data/cropped_flowers/daisy/5626895440_97a0ec04c2_n.jpg  \n",
            "  inflating: data/cropped_flowers/daisy/5632774792_0fa33d17eb_n.jpg  \n",
            "  inflating: data/cropped_flowers/daisy/5673551_01d1ea993e_n.jpg  \n",
            "  inflating: data/cropped_flowers/daisy/5673728_71b8cb57eb.jpg  \n",
            "  inflating: data/cropped_flowers/daisy/5679288570_b4c52e76d5.jpg  \n",
            "  inflating: data/cropped_flowers/daisy/5684911529_88a7ae32ba_n.jpg  \n",
            "  inflating: data/cropped_flowers/daisy/5693459303_e61d9a9533.jpg  \n",
            "  inflating: data/cropped_flowers/daisy/5700781400_65761f3fce.jpg  \n",
            "  inflating: data/cropped_flowers/daisy/5714327423_50af0cffe9.jpg  \n",
            "  inflating: data/cropped_flowers/daisy/5739768868_9f982684f9_n.jpg  \n",
            "  inflating: data/cropped_flowers/daisy/5769217520_c90efc3c93_m.jpg  \n",
            "  inflating: data/cropped_flowers/daisy/5773652803_574b51414f_n.jpg  \n",
            "  inflating: data/cropped_flowers/daisy/5794835_d15905c7c8_n.jpg  \n",
            "  inflating: data/cropped_flowers/daisy/5794839_200acd910c_n.jpg  \n",
            "  inflating: data/cropped_flowers/daisy/5795159787_ebb51a5e75.jpg  \n",
            "  inflating: data/cropped_flowers/daisy/5796562389_ae43c83317_m.jpg  \n",
            "  inflating: data/cropped_flowers/daisy/5809489674_5659b3ae5d_n.jpg  \n",
            "  inflating: data/cropped_flowers/daisy/5853276960_d08f90fff6.jpg  \n",
            "  inflating: data/cropped_flowers/daisy/5869147563_66fb88119d.jpg  \n",
            "  inflating: data/cropped_flowers/daisy/5874818796_3efbb8769d.jpg  \n",
            "  inflating: data/cropped_flowers/daisy/5876455546_32049e5585.jpg  \n",
            "  inflating: data/cropped_flowers/daisy/5881907044_92a85a05c8_n.jpg  \n",
            "  inflating: data/cropped_flowers/daisy/5883162120_dc7274af76_n.jpg  \n",
            "  inflating: data/cropped_flowers/daisy/5884807222_22f5326ba8_m.jpg  \n",
            "  inflating: data/cropped_flowers/daisy/5948835387_5a98d39eff_m.jpg  \n",
            "  inflating: data/cropped_flowers/daisy/5973488341_50bdf6cee3_n.jpg  \n",
            "  inflating: data/cropped_flowers/daisy/5973491805_556bba93cc.jpg  \n",
            "  inflating: data/cropped_flowers/daisy/5981645737_29eceac291_m.jpg  \n",
            "  inflating: data/cropped_flowers/daisy/6089825811_80f253fbe1.jpg  \n",
            "  inflating: data/cropped_flowers/daisy/6095817094_3a5b1d793d.jpg  \n",
            "  inflating: data/cropped_flowers/daisy/6148728633_27afc47b0c_m.jpg  \n",
            "  inflating: data/cropped_flowers/daisy/6207492986_0ff91f3296.jpg  \n",
            "  inflating: data/cropped_flowers/daisy/6208851904_9d916ebb32_n.jpg  \n",
            "  inflating: data/cropped_flowers/daisy/6210664514_f1d211217a.jpg  \n",
            "  inflating: data/cropped_flowers/daisy/6299498346_b9774b6500.jpg  \n",
            "  inflating: data/cropped_flowers/daisy/6323721068_3d3394af6d_n.jpg  \n",
            "  inflating: data/cropped_flowers/daisy/6480809771_b1e14c5cc2_m.jpg  \n",
            "  inflating: data/cropped_flowers/daisy/6529588249_d9cbe68aab_n.jpg  \n",
            "  inflating: data/cropped_flowers/daisy/6596277835_9f86da54bb.jpg  \n",
            "  inflating: data/cropped_flowers/daisy/676120388_28f03069c3.jpg  \n",
            "  inflating: data/cropped_flowers/daisy/6776075110_1ea7a09dd4_n.jpg  \n",
            "  inflating: data/cropped_flowers/daisy/6864242336_0d12713fe5_n.jpg  \n",
            "  inflating: data/cropped_flowers/daisy/6910811638_aa6f17df23.jpg  \n",
            "  inflating: data/cropped_flowers/daisy/6950173662_5e9473003e_n.jpg  \n",
            "  inflating: data/cropped_flowers/daisy/695778683_890c46ebac.jpg  \n",
            "  inflating: data/cropped_flowers/daisy/6978826370_7b9aa7c7d5.jpg  \n",
            "  inflating: data/cropped_flowers/daisy/705422469_ffa28c566d.jpg  \n",
            "  inflating: data/cropped_flowers/daisy/7066602021_2647457985_m.jpg  \n",
            "  inflating: data/cropped_flowers/daisy/7133935763_82b17c8e1b_n.jpg  \n",
            "  inflating: data/cropped_flowers/daisy/7189043225_2fe781439a_n.jpg  \n",
            "  inflating: data/cropped_flowers/daisy/7191221492_610035de7c_m.jpg  \n",
            "  inflating: data/cropped_flowers/daisy/7199968650_72afc16d31_m.jpg  \n",
            "  inflating: data/cropped_flowers/daisy/721595842_bacd80a6ac.jpg  \n",
            "  inflating: data/cropped_flowers/daisy/7288989324_c25d9febbf.jpg  \n",
            "  inflating: data/cropped_flowers/daisy/7335886184_d06a83f640.jpg  \n",
            "  inflating: data/cropped_flowers/daisy/7358085448_b317d11cd5.jpg  \n",
            "  inflating: data/cropped_flowers/daisy/7410356270_9dff4d0e2e_n.jpg  \n",
            "  inflating: data/cropped_flowers/daisy/7416083788_fcb4c4f27e_n.jpg  \n",
            "  inflating: data/cropped_flowers/daisy/7454630692_ab2d67dd18_m.jpg  \n",
            "  inflating: data/cropped_flowers/daisy/754248840_95092de274.jpg  \n",
            "  inflating: data/cropped_flowers/daisy/754296579_30a9ae018c_n.jpg  \n",
            "  inflating: data/cropped_flowers/daisy/7568630428_8cf0fc16ff_n.jpg  \n",
            "  inflating: data/cropped_flowers/daisy/7630511450_02d3292e90.jpg  \n",
            "  inflating: data/cropped_flowers/daisy/7630517248_98fb8bee1f_n.jpg  \n",
            "  inflating: data/cropped_flowers/daisy/7630520686_e3a61ac763.jpg  \n",
            "  inflating: data/cropped_flowers/daisy/7633425046_8293e3d0e9_m.jpg  \n",
            "  inflating: data/cropped_flowers/daisy/7669550908_bc5a11276f_n.jpg  \n",
            "  inflating: data/cropped_flowers/daisy/7702332000_3f21ef4571_n.jpg  \n",
            "  inflating: data/cropped_flowers/daisy/7749368884_1fc58c67ff_n.jpg  \n",
            "  inflating: data/cropped_flowers/daisy/7790614422_4557928ab9_n.jpg  \n",
            "  inflating: data/cropped_flowers/daisy/7924174040_444d5bbb8a.jpg  \n",
            "  inflating: data/cropped_flowers/daisy/8008258043_5457dd254b_n.jpg  \n",
            "  inflating: data/cropped_flowers/daisy/8071646795_2fdc89ab7a_n.jpg  \n",
            "  inflating: data/cropped_flowers/daisy/8085329197_41d53a21e2_n.jpg  \n",
            "  inflating: data/cropped_flowers/daisy/8094774544_35465c1c64.jpg  \n",
            "  inflating: data/cropped_flowers/daisy/8120563761_ed5620664f_m.jpg  \n",
            "  inflating: data/cropped_flowers/daisy/8127252886_96558c23d1.jpg  \n",
            "  inflating: data/cropped_flowers/daisy/813445367_187ecf080a_n.jpg  \n",
            "  inflating: data/cropped_flowers/daisy/8348621545_8f02b82662_n.jpg  \n",
            "  inflating: data/cropped_flowers/daisy/8382667241_0f046cecdb_n.jpg  \n",
            "  inflating: data/cropped_flowers/daisy/8383753520_8391dd80ee_m.jpg  \n",
            "  inflating: data/cropped_flowers/daisy/8446495985_f72d851482.jpg  \n",
            "  inflating: data/cropped_flowers/daisy/8489463746_a9839bf7e4.jpg  \n",
            "  inflating: data/cropped_flowers/daisy/8616684075_71923bb771_n.jpg  \n",
            "  inflating: data/cropped_flowers/daisy/8645839873_0151fb92bf_n.jpg  \n",
            "  inflating: data/cropped_flowers/daisy/8671824531_64b816949e_m.jpg  \n",
            "  inflating: data/cropped_flowers/daisy/8696022686_1f8d62c5cb_m.jpg  \n",
            "  inflating: data/cropped_flowers/daisy/8706810197_17b6c1f1e7.jpg  \n",
            "  inflating: data/cropped_flowers/daisy/8708143485_38d084ac8c_n.jpg  \n",
            "  inflating: data/cropped_flowers/daisy/8709110478_60d12efcd4_n.jpg  \n",
            "  inflating: data/cropped_flowers/daisy/8709535323_a6bea3e43f.jpg  \n",
            "  inflating: data/cropped_flowers/daisy/8710109684_e2c5ef6aeb_n.jpg  \n",
            "  inflating: data/cropped_flowers/daisy/8718637649_87a0d85190_n.jpg  \n",
            "  inflating: data/cropped_flowers/daisy/8719756744_34a5a83976_n.jpg  \n",
            "  inflating: data/cropped_flowers/daisy/8740807508_0587f5b7b7.jpg  \n",
            "  inflating: data/cropped_flowers/daisy/8759177308_951790e00d_m.jpg  \n",
            "  inflating: data/cropped_flowers/daisy/8882282142_9be2524d38_m.jpg  \n",
            "  inflating: data/cropped_flowers/daisy/8887005939_b19e8305ee.jpg  \n",
            "  inflating: data/cropped_flowers/daisy/8932490012_cc08e690ba_n.jpg  \n",
            "  inflating: data/cropped_flowers/daisy/8938566373_d129e7af75.jpg  \n",
            "  inflating: data/cropped_flowers/daisy/8964198962_6d8593b533.jpg  \n",
            "  inflating: data/cropped_flowers/daisy/8983779970_9d3a6a3bf2_n.jpg  \n",
            "  inflating: data/cropped_flowers/daisy/9054268881_19792c5203_n.jpg  \n",
            "  inflating: data/cropped_flowers/daisy/9094631844_1a6abca29e.jpg  \n",
            "  inflating: data/cropped_flowers/daisy/9146733107_98b15d3892_m.jpg  \n",
            "  inflating: data/cropped_flowers/daisy/9158041313_7a6a102f7a_n.jpg  \n",
            "  inflating: data/cropped_flowers/daisy/9161647994_e39b65cb9c_n.jpg  \n",
            "  inflating: data/cropped_flowers/daisy/9175280426_40ecc395b8_m.jpg  \n",
            "  inflating: data/cropped_flowers/daisy/9180706736_092d43088c.jpg  \n",
            "  inflating: data/cropped_flowers/daisy/9204730092_a7f2182347.jpg  \n",
            "  inflating: data/cropped_flowers/daisy/9242705328_eee8402a8d.jpg  \n",
            "  inflating: data/cropped_flowers/daisy/9286947622_4822f4fc21.jpg  \n",
            "  inflating: data/cropped_flowers/daisy/9299302012_958c70564c_n.jpg  \n",
            "  inflating: data/cropped_flowers/daisy/9321854387_5f77c926cb_n.jpg  \n",
            "  inflating: data/cropped_flowers/daisy/9467543719_c4800becbb_m.jpg  \n",
            "  inflating: data/cropped_flowers/daisy/9489270024_1b05f08492_m.jpg  \n",
            "  inflating: data/cropped_flowers/daisy/9496209717_25a6ebdab6_m.jpg  \n",
            "  inflating: data/cropped_flowers/daisy/9515186037_3be48fe68f.jpg  \n",
            "  inflating: data/cropped_flowers/daisy/9529916092_de70623523_n.jpg  \n",
            "  inflating: data/cropped_flowers/daisy/9593034725_0062f0d24e_n.jpg  \n",
            "  inflating: data/cropped_flowers/daisy/9595857626_979c45e5bf_n.jpg  \n",
            "  inflating: data/cropped_flowers/daisy/9611923744_013b29e4da_n.jpg  \n",
            "  inflating: data/cropped_flowers/daisy/9922116524_ab4a2533fe_n.jpg  \n",
            "  inflating: data/cropped_flowers/LICENSE.txt  \n",
            "  inflating: data/cropped_flowers/README.txt  \n",
            "   creating: data/cropped_flowers/roses/\n",
            "  inflating: data/cropped_flowers/roses/10090824183_d02c613f10_m.jpg  \n",
            "  inflating: data/cropped_flowers/roses/102501987_3cdb8e5394_n.jpg  \n",
            "  inflating: data/cropped_flowers/roses/10503217854_e66a804309.jpg  \n",
            "  inflating: data/cropped_flowers/roses/11233672494_d8bf0a3dbf_n.jpg  \n",
            "  inflating: data/cropped_flowers/roses/118974357_0faa23cce9_n.jpg  \n",
            "  inflating: data/cropped_flowers/roses/11944957684_2cc806276e.jpg  \n",
            "  inflating: data/cropped_flowers/roses/12202373204_34fb07205b.jpg  \n",
            "  inflating: data/cropped_flowers/roses/12238827553_cf427bfd51_n.jpg  \n",
            "  inflating: data/cropped_flowers/roses/12240303_80d87f77a3_n.jpg  \n",
            "  inflating: data/cropped_flowers/roses/12243068283_ee4c2683e2_n.jpg  \n",
            "  inflating: data/cropped_flowers/roses/12243069253_e512464095_n.jpg  \n",
            "  inflating: data/cropped_flowers/roses/123128873_546b8b7355_n.jpg  \n",
            "  inflating: data/cropped_flowers/roses/12338444334_72fcc2fc58_m.jpg  \n",
            "  inflating: data/cropped_flowers/roses/12406418663_af20dc225f_n.jpg  \n",
            "  inflating: data/cropped_flowers/roses/12407768513_3440238148_n.jpg  \n",
            "  inflating: data/cropped_flowers/roses/12572786553_634868f7f2_n.jpg  \n",
            "  inflating: data/cropped_flowers/roses/13231224664_4af5293a37.jpg  \n",
            "  inflating: data/cropped_flowers/roses/13264214185_d6aa79b3bd.jpg  \n",
            "  inflating: data/cropped_flowers/roses/13279526615_a3b0059bec.jpg  \n",
            "  inflating: data/cropped_flowers/roses/13979889721_42a59ca9fa_m.jpg  \n",
            "  inflating: data/cropped_flowers/roses/14019883858_e5d2a0ec10_n.jpg  \n",
            "  inflating: data/cropped_flowers/roses/1402130395_0b89d76029.jpg  \n",
            "  inflating: data/cropped_flowers/roses/14145188939_b4de638bd3_n.jpg  \n",
            "  inflating: data/cropped_flowers/roses/14154164774_3b39d36778.jpg  \n",
            "  inflating: data/cropped_flowers/roses/14166797345_d2ab9da518.jpg  \n",
            "  inflating: data/cropped_flowers/roses/14176042519_5792b37555.jpg  \n",
            "  inflating: data/cropped_flowers/roses/14267691818_301aceda07.jpg  \n",
            "  inflating: data/cropped_flowers/roses/14381787252_e8e12e277a_n.jpg  \n",
            "  inflating: data/cropped_flowers/roses/14408977935_a397e796b8_m.jpg  \n",
            "  inflating: data/cropped_flowers/roses/14414100710_753a36fce9.jpg  \n",
            "  inflating: data/cropped_flowers/roses/1446090416_f0cad5fde4.jpg  \n",
            "  inflating: data/cropped_flowers/roses/1446097778_97149b8362.jpg  \n",
            "  inflating: data/cropped_flowers/roses/14494590921_3bb1dc7b88_n.jpg  \n",
            "  inflating: data/cropped_flowers/roses/14510185271_b5d75dd98e_n.jpg  \n",
            "  inflating: data/cropped_flowers/roses/14573732424_1bb91e2e42_n.jpg  \n",
            "  inflating: data/cropped_flowers/roses/145862135_ab710de93c_n.jpg  \n",
            "  inflating: data/cropped_flowers/roses/1461381091_aaaa663bbe_n.jpg  \n",
            "  inflating: data/cropped_flowers/roses/14683774134_6367640585.jpg  \n",
            "  inflating: data/cropped_flowers/roses/14687731322_5613f76353.jpg  \n",
            "  inflating: data/cropped_flowers/roses/1469726748_f359f4a8c5.jpg  \n",
            "  inflating: data/cropped_flowers/roses/1485142251_ca89254442.jpg  \n",
            "  inflating: data/cropped_flowers/roses/14993880427_95d0f27257.jpg  \n",
            "  inflating: data/cropped_flowers/roses/15011625580_7974c44bce.jpg  \n",
            "  inflating: data/cropped_flowers/roses/15032112248_30c5284e54_n.jpg  \n",
            "  inflating: data/cropped_flowers/roses/15094168139_8f636ffa1d_n.jpg  \n",
            "  inflating: data/cropped_flowers/roses/15104537437_f6730b38c3_n.jpg  \n",
            "  inflating: data/cropped_flowers/roses/15172358234_28706749a5.jpg  \n",
            "  inflating: data/cropped_flowers/roses/15184419268_7230e9728e.jpg  \n",
            "  inflating: data/cropped_flowers/roses/15190665092_5c1c37a066_m.jpg  \n",
            "  inflating: data/cropped_flowers/roses/15202632426_d88efb321a_n.jpg  \n",
            "  inflating: data/cropped_flowers/roses/15222804561_0fde5eb4ae_n.jpg  \n",
            "  inflating: data/cropped_flowers/roses/15236835789_6009b8f33d.jpg  \n",
            "  inflating: data/cropped_flowers/roses/15255964274_cf2ecdf702.jpg  \n",
            "  inflating: data/cropped_flowers/roses/15274443248_76b9f3eb24.jpg  \n",
            "  inflating: data/cropped_flowers/roses/15277801151_5ed88f40f0_n.jpg  \n",
            "  inflating: data/cropped_flowers/roses/15319767030_e6c5602a77_m.jpg  \n",
            "  inflating: data/cropped_flowers/roses/15333843782_060cef3030.jpg  \n",
            "  inflating: data/cropped_flowers/roses/1540738662_7b4152e344_m.jpg  \n",
            "  inflating: data/cropped_flowers/roses/15424480096_45bb574b33.jpg  \n",
            "  inflating: data/cropped_flowers/roses/15498482197_8878cdfb07_n.jpg  \n",
            "  inflating: data/cropped_flowers/roses/15509799653_0562d4a4fa.jpg  \n",
            "  inflating: data/cropped_flowers/roses/1562198683_8cd8cb5876_n.jpg  \n",
            "  inflating: data/cropped_flowers/roses/15674450867_0ced942941_n.jpg  \n",
            "  inflating: data/cropped_flowers/roses/15681454551_b6f73ce443_n.jpg  \n",
            "  inflating: data/cropped_flowers/roses/15697872479_ed48e9dd73_n.jpg  \n",
            "  inflating: data/cropped_flowers/roses/15699509054_d3e125286f_n.jpg  \n",
            "  inflating: data/cropped_flowers/roses/15738649506_2b4c2fd933_m.jpg  \n",
            "  inflating: data/cropped_flowers/roses/15820572326_be2ea4a55c_n.jpg  \n",
            "  inflating: data/cropped_flowers/roses/15821959372_518b9dcf57_n.jpg  \n",
            "  inflating: data/cropped_flowers/roses/159079265_d77a9ac920_n.jpg  \n",
            "  inflating: data/cropped_flowers/roses/15965652160_de91389965_m.jpg  \n",
            "  inflating: data/cropped_flowers/roses/15977362155_461030c196_m.jpg  \n",
            "  inflating: data/cropped_flowers/roses/16018886851_c32746cb72.jpg  \n",
            "  inflating: data/cropped_flowers/roses/160954292_6c2b4fda65_n.jpg  \n",
            "  inflating: data/cropped_flowers/roses/16152205512_9d6cb80fb6.jpg  \n",
            "  inflating: data/cropped_flowers/roses/16155980245_6ab8d7b888.jpg  \n",
            "  inflating: data/cropped_flowers/roses/16157873719_bf0bdf8558_n.jpg  \n",
            "  inflating: data/cropped_flowers/roses/16229215579_e7dd808e9c.jpg  \n",
            "  inflating: data/cropped_flowers/roses/1645761726_2b1be95472.jpg  \n",
            "  inflating: data/cropped_flowers/roses/16525204061_9b47be3726_m.jpg  \n",
            "  inflating: data/cropped_flowers/roses/165985535_7178ce6350.jpg  \n",
            "  inflating: data/cropped_flowers/roses/16643944275_3cd4cd966c.jpg  \n",
            "  inflating: data/cropped_flowers/roses/1666341535_99c6f7509f_n.jpg  \n",
            "  inflating: data/cropped_flowers/roses/16670921315_0fc48d7ab2_n.jpg  \n",
            "  inflating: data/cropped_flowers/roses/1667199972_7ba7d999c1_m.jpg  \n",
            "  inflating: data/cropped_flowers/roses/16903172207_2cd7aca66a.jpg  \n",
            "  inflating: data/cropped_flowers/roses/17040847367_b54d05bf52.jpg  \n",
            "  inflating: data/cropped_flowers/roses/17062080069_36ac7907d2_n.jpg  \n",
            "  inflating: data/cropped_flowers/roses/17090993740_fcc8b60b81.jpg  \n",
            "  inflating: data/cropped_flowers/roses/17158274118_00ec99a23c.jpg  \n",
            "  inflating: data/cropped_flowers/roses/174109630_3c544b8a2f.jpg  \n",
            "  inflating: data/cropped_flowers/roses/17449165090_dfb27af360_n.jpg  \n",
            "  inflating: data/cropped_flowers/roses/1756973583_4aac7df00d_m.jpg  \n",
            "  inflating: data/cropped_flowers/roses/1757822526_fe30b9b3ca_m.jpg  \n",
            "  inflating: data/cropped_flowers/roses/1775233884_12ff5a124f.jpg  \n",
            "  inflating: data/cropped_flowers/roses/1788484468_f73afa6c32_n.jpg  \n",
            "  inflating: data/cropped_flowers/roses/1793211631_68c31a74dc.jpg  \n",
            "  inflating: data/cropped_flowers/roses/17990320484_93bba345d2_m.jpg  \n",
            "  inflating: data/cropped_flowers/roses/1801614110_bb9fa46830.jpg  \n",
            "  inflating: data/cropped_flowers/roses/1813435848_7852708394_n.jpg  \n",
            "  inflating: data/cropped_flowers/roses/1831404161_d2df86fd70.jpg  \n",
            "  inflating: data/cropped_flowers/roses/18376177250_86060cbdc9.jpg  \n",
            "  inflating: data/cropped_flowers/roses/18389368680_91c24a2087_z.jpg  \n",
            "  inflating: data/cropped_flowers/roses/18563353954_b761d97155_m.jpg  \n",
            "  inflating: data/cropped_flowers/roses/18584002386_cec0df537d_n.jpg  \n",
            "  inflating: data/cropped_flowers/roses/18599603859_f2ec616ddf_n.jpg  \n",
            "  inflating: data/cropped_flowers/roses/18760363474_a707331322_n.jpg  \n",
            "  inflating: data/cropped_flowers/roses/18990187093_09f2bff8fc_m.jpg  \n",
            "  inflating: data/cropped_flowers/roses/19271410704_932d1f2c97_n.jpg  \n",
            "  inflating: data/cropped_flowers/roses/19440805164_920b28da61_n.jpg  \n",
            "  inflating: data/cropped_flowers/roses/1949195327_75f76c12b1.jpg  \n",
            "  inflating: data/cropped_flowers/roses/19988406792_68201f76e3_n.jpg  \n",
            "  inflating: data/cropped_flowers/roses/20409866779_ac473f55e0_m.jpg  \n",
            "  inflating: data/cropped_flowers/roses/2053476785_c162a3e358.jpg  \n",
            "  inflating: data/cropped_flowers/roses/2059172936_032ffc12aa.jpg  \n",
            "  inflating: data/cropped_flowers/roses/20596941736_f2c5f496cf.jpg  \n",
            "  inflating: data/cropped_flowers/roses/2065522422_cfdd80044a_n.jpg  \n",
            "  inflating: data/cropped_flowers/roses/20825078671_90b0389c70_m.jpg  \n",
            "  inflating: data/cropped_flowers/roses/2093263381_afd51358a3.jpg  \n",
            "  inflating: data/cropped_flowers/roses/2122401867_cd86c5f114_n.jpg  \n",
            "  inflating: data/cropped_flowers/roses/21346056089_e6f8074e5f_m.jpg  \n",
            "  inflating: data/cropped_flowers/roses/21347496068_f4d3339607.jpg  \n",
            "  inflating: data/cropped_flowers/roses/2141413229_3f0425f972_n.jpg  \n",
            "  inflating: data/cropped_flowers/roses/21522100663_455b77a90c_n.jpg  \n",
            "  inflating: data/cropped_flowers/roses/2183357362_4b4da4b6b5.jpg  \n",
            "  inflating: data/cropped_flowers/roses/218630974_5646dafc63_m.jpg  \n",
            "  inflating: data/cropped_flowers/roses/2197754124_5c8a146761_n.jpg  \n",
            "  inflating: data/cropped_flowers/roses/22093190909_77223e6f53_n.jpg  \n",
            "  inflating: data/cropped_flowers/roses/2215318403_06eb99176a.jpg  \n",
            "  inflating: data/cropped_flowers/roses/2225411981_6638c3e988.jpg  \n",
            "  inflating: data/cropped_flowers/roses/2258973326_03c0145f15_n.jpg  \n",
            "  inflating: data/cropped_flowers/roses/2265390547_2409007cef_n.jpg  \n",
            "  inflating: data/cropped_flowers/roses/2265579414_2e00a8f265_n.jpg  \n",
            "  inflating: data/cropped_flowers/roses/2273917656_6d6c038283.jpg  \n",
            "  inflating: data/cropped_flowers/roses/229488796_21ac6ee16d_n.jpg  \n",
            "  inflating: data/cropped_flowers/roses/22982871191_ec61e36939_n.jpg  \n",
            "  inflating: data/cropped_flowers/roses/2300959680_8d22fa5ee2.jpg  \n",
            "  inflating: data/cropped_flowers/roses/23232710191_cc57620cd5.jpg  \n",
            "  inflating: data/cropped_flowers/roses/2325232198_751645d0bb_n.jpg  \n",
            "  inflating: data/cropped_flowers/roses/2331651885_619653a5d3.jpg  \n",
            "  inflating: data/cropped_flowers/roses/2332478138_28f1d586e4_n.jpg  \n",
            "  inflating: data/cropped_flowers/roses/23891005905_17ce9e6936.jpg  \n",
            "  inflating: data/cropped_flowers/roses/2392457180_f02dab5c65.jpg  \n",
            "  inflating: data/cropped_flowers/roses/2414954629_3708a1a04d.jpg  \n",
            "  inflating: data/cropped_flowers/roses/2423565102_2f1a00bb1b_n.jpg  \n",
            "  inflating: data/cropped_flowers/roses/2471103806_87ba53d997_n.jpg  \n",
            "  inflating: data/cropped_flowers/roses/24781114_bc83aa811e_n.jpg  \n",
            "  inflating: data/cropped_flowers/roses/2491600761_7e9d6776e8_m.jpg  \n",
            "  inflating: data/cropped_flowers/roses/2501297526_cbd66a3f7e_m.jpg  \n",
            "  inflating: data/cropped_flowers/roses/2535466143_5823e48b63.jpg  \n",
            "  inflating: data/cropped_flowers/roses/2535466393_6556afeb2f_m.jpg  \n",
            "  inflating: data/cropped_flowers/roses/2535495431_e6f950443c.jpg  \n",
            "  inflating: data/cropped_flowers/roses/2536282942_b5ca27577e.jpg  \n",
            "  inflating: data/cropped_flowers/roses/2607130050_9c34310004.jpg  \n",
            "  inflating: data/cropped_flowers/roses/2609353769_dc3654f12f.jpg  \n",
            "  inflating: data/cropped_flowers/roses/2675221506_5286c0595f.jpg  \n",
            "  inflating: data/cropped_flowers/roses/2677417735_a697052d2d_n.jpg  \n",
            "  inflating: data/cropped_flowers/roses/2682566502_967e7eaa2a.jpg  \n",
            "  inflating: data/cropped_flowers/roses/269037241_07fceff56a_m.jpg  \n",
            "  inflating: data/cropped_flowers/roses/2713683760_d98cd2a05b_m.jpg  \n",
            "  inflating: data/cropped_flowers/roses/272481307_1eb47ba3e0_n.jpg  \n",
            "  inflating: data/cropped_flowers/roses/2735666555_01d53e74fe.jpg  \n",
            "  inflating: data/cropped_flowers/roses/2756028421_b3d5eea526_n.jpg  \n",
            "  inflating: data/cropped_flowers/roses/2788276815_8f730bd942.jpg  \n",
            "  inflating: data/cropped_flowers/roses/2888138918_402096c7fb.jpg  \n",
            "  inflating: data/cropped_flowers/roses/2949945463_366bc63079_n.jpg  \n",
            "  inflating: data/cropped_flowers/roses/2951375433_ae2726d9d2_m.jpg  \n",
            "  inflating: data/cropped_flowers/roses/295257304_de893fc94d.jpg  \n",
            "  inflating: data/cropped_flowers/roses/2960709681_e95940c0f0_n.jpg  \n",
            "  inflating: data/cropped_flowers/roses/298670754_f25edda891.jpg  \n",
            "  inflating: data/cropped_flowers/roses/3026375835_a20ecdd140_m.jpg  \n",
            "  inflating: data/cropped_flowers/roses/3052753519_d087aaeacb_n.jpg  \n",
            "  inflating: data/cropped_flowers/roses/3065719996_c16ecd5551.jpg  \n",
            "  inflating: data/cropped_flowers/roses/3103591125_99107c8bbe_n.jpg  \n",
            "  inflating: data/cropped_flowers/roses/3104672186_5f75647448_n.jpg  \n",
            "  inflating: data/cropped_flowers/roses/3109712111_75cea2dee6.jpg  \n",
            "  inflating: data/cropped_flowers/roses/3115889021_053f3b8e5a.jpg  \n",
            "  inflating: data/cropped_flowers/roses/3141434519_aaa64c4f65_n.jpg  \n",
            "  inflating: data/cropped_flowers/roses/3179751458_9646d839f6_n.jpg  \n",
            "  inflating: data/cropped_flowers/roses/319298955_0c72bd36bf.jpg  \n",
            "  inflating: data/cropped_flowers/roses/3203779656_3580151ea4_m.jpg  \n",
            "  inflating: data/cropped_flowers/roses/3208417632_19138d8e35_n.jpg  \n",
            "  inflating: data/cropped_flowers/roses/323872063_7264e7e018_m.jpg  \n",
            "  inflating: data/cropped_flowers/roses/326541992_d542103ca8_n.jpg  \n",
            "  inflating: data/cropped_flowers/roses/3268459296_a7346c6b2c.jpg  \n",
            "  inflating: data/cropped_flowers/roses/3276552939_8c31b22d3e.jpg  \n",
            "  inflating: data/cropped_flowers/roses/3278709893_ba4956a572_n.jpg  \n",
            "  inflating: data/cropped_flowers/roses/3292434691_392071d702_n.jpg  \n",
            "  inflating: data/cropped_flowers/roses/3407482427_49d5c75291_m.jpg  \n",
            "  inflating: data/cropped_flowers/roses/3415176946_248afe9f32.jpg  \n",
            "  inflating: data/cropped_flowers/roses/3450344423_63ba3190e3.jpg  \n",
            "  inflating: data/cropped_flowers/roses/3451177763_729a4d54af_n.jpg  \n",
            "  inflating: data/cropped_flowers/roses/3465443774_6b0c75a3b1_n.jpg  \n",
            "  inflating: data/cropped_flowers/roses/3475572132_01ae28e834_n.jpg  \n",
            "  inflating: data/cropped_flowers/roses/3494252600_29f26e3ff0_n.jpg  \n",
            "  inflating: data/cropped_flowers/roses/3500121696_5b6a69effb_n.jpg  \n",
            "  inflating: data/cropped_flowers/roses/353897245_5453f35a8e.jpg  \n",
            "  inflating: data/cropped_flowers/roses/3550491463_3eb092054c_m.jpg  \n",
            "  inflating: data/cropped_flowers/roses/3554620445_082dd0bec4_n.jpg  \n",
            "  inflating: data/cropped_flowers/roses/3560426426_1c66cb8330.jpg  \n",
            "  inflating: data/cropped_flowers/roses/3576488381_611f3446e0_n.jpg  \n",
            "  inflating: data/cropped_flowers/roses/3621011057_0d03bd171b_n.jpg  \n",
            "  inflating: data/cropped_flowers/roses/3624546109_8eb98f0cdb.jpg  \n",
            "  inflating: data/cropped_flowers/roses/3630246240_4fee9a33db.jpg  \n",
            "  inflating: data/cropped_flowers/roses/3654988152_b11178bbcb.jpg  \n",
            "  inflating: data/cropped_flowers/roses/3661675690_ed2d05fa5f_n.jpg  \n",
            "  inflating: data/cropped_flowers/roses/3663244576_97f595cf4a.jpg  \n",
            "  inflating: data/cropped_flowers/roses/3664842094_5fd60ee26b.jpg  \n",
            "  inflating: data/cropped_flowers/roses/3667366832_7a8017c528_n.jpg  \n",
            "  inflating: data/cropped_flowers/roses/3705716290_cb7d803130_n.jpg  \n",
            "  inflating: data/cropped_flowers/roses/3742155164_14b557a51c_n.jpg  \n",
            "  inflating: data/cropped_flowers/roses/3742168238_d961937e68_n.jpg  \n",
            "  inflating: data/cropped_flowers/roses/3751835302_d5a03f55e8_n.jpg  \n",
            "  inflating: data/cropped_flowers/roses/3753920123_c7ebc18ee3.jpg  \n",
            "  inflating: data/cropped_flowers/roses/3829990289_c0c3821e4d_m.jpg  \n",
            "  inflating: data/cropped_flowers/roses/3871586333_5a708d5cf4_n.jpg  \n",
            "  inflating: data/cropped_flowers/roses/388405293_4db1d71f21_n.jpg  \n",
            "  inflating: data/cropped_flowers/roses/3903276582_fe05bf84c7_n.jpg  \n",
            "  inflating: data/cropped_flowers/roses/3909587261_f8cd3e7fe7.jpg  \n",
            "  inflating: data/cropped_flowers/roses/3948347096_42261f047a_m.jpg  \n",
            "  inflating: data/cropped_flowers/roses/394990940_7af082cf8d_n.jpg  \n",
            "  inflating: data/cropped_flowers/roses/3997609936_8db20b7141_n.jpg  \n",
            "  inflating: data/cropped_flowers/roses/4093390305_4010c736c9.jpg  \n",
            "  inflating: data/cropped_flowers/roses/410421672_563550467c.jpg  \n",
            "  inflating: data/cropped_flowers/roses/410425647_4586667858.jpg  \n",
            "  inflating: data/cropped_flowers/roses/4231745228_ece86330d9.jpg  \n",
            "  inflating: data/cropped_flowers/roses/4242976586_607a8f9843_n.jpg  \n",
            "  inflating: data/cropped_flowers/roses/4279990882_031482f8b6_n.jpg  \n",
            "  inflating: data/cropped_flowers/roses/4325834819_ab56661dcc_m.jpg  \n",
            "  inflating: data/cropped_flowers/roses/4356781875_92c5cd93c0.jpg  \n",
            "  inflating: data/cropped_flowers/roses/4360743371_6238b36d8c_m.jpg  \n",
            "  inflating: data/cropped_flowers/roses/4363734507_5cc4ed6e01.jpg  \n",
            "  inflating: data/cropped_flowers/roses/4396642388_3081a38875_n.jpg  \n",
            "  inflating: data/cropped_flowers/roses/4413509121_a62879598a.jpg  \n",
            "  inflating: data/cropped_flowers/roses/4414135084_1ac7e6cd54.jpg  \n",
            "  inflating: data/cropped_flowers/roses/4495885281_fe2a3b671d.jpg  \n",
            "  inflating: data/cropped_flowers/roses/4503599544_3822e7d1be.jpg  \n",
            "  inflating: data/cropped_flowers/roses/4504220673_af754fcb40_n.jpg  \n",
            "  inflating: data/cropped_flowers/roses/4504731519_9a260b6607_n.jpg  \n",
            "  inflating: data/cropped_flowers/roses/4505921907_21c8002fde.jpg  \n",
            "  inflating: data/cropped_flowers/roses/4553266758_09d4dbdac9_n.jpg  \n",
            "  inflating: data/cropped_flowers/roses/4558025386_2c47314528.jpg  \n",
            "  inflating: data/cropped_flowers/roses/4575042086_7674b76297_n.jpg  \n",
            "  inflating: data/cropped_flowers/roses/459042023_6273adc312_n.jpg  \n",
            "  inflating: data/cropped_flowers/roses/4608559939_3487bf3b62_n.jpg  \n",
            "  inflating: data/cropped_flowers/roses/4609166128_b7ed49b40b_m.jpg  \n",
            "  inflating: data/cropped_flowers/roses/4625089819_55c45a189c.jpg  \n",
            "  inflating: data/cropped_flowers/roses/4644336779_acd973528c.jpg  \n",
            "  inflating: data/cropped_flowers/roses/4654893119_45d232016b.jpg  \n",
            "  inflating: data/cropped_flowers/roses/466486216_ab13b55763.jpg  \n",
            "  inflating: data/cropped_flowers/roses/4675532860_890504a4a3_m.jpg  \n",
            "  inflating: data/cropped_flowers/roses/4684127262_6c3346188d.jpg  \n",
            "  inflating: data/cropped_flowers/roses/4694341873_65fe187a4e_n.jpg  \n",
            "  inflating: data/cropped_flowers/roses/4702438868_278b9cf41c_n.jpg  \n",
            "  inflating: data/cropped_flowers/roses/4735314389_94fe1b2a9f_n.jpg  \n",
            "  inflating: data/cropped_flowers/roses/4754734410_94d98463a5.jpg  \n",
            "  inflating: data/cropped_flowers/roses/4764674741_82b8f93359_n.jpg  \n",
            "  inflating: data/cropped_flowers/roses/4765063233_f64440c20b.jpg  \n",
            "  inflating: data/cropped_flowers/roses/4797595918_79887b1229_n.jpg  \n",
            "  inflating: data/cropped_flowers/roses/483444865_65962cea07_m.jpg  \n",
            "  inflating: data/cropped_flowers/roses/4860145119_b1c3cbaa4e_n.jpg  \n",
            "  inflating: data/cropped_flowers/roses/488849503_63a290a8c2_m.jpg  \n",
            "  inflating: data/cropped_flowers/roses/4900231976_f8ced2b42a_n.jpg  \n",
            "  inflating: data/cropped_flowers/roses/4910094611_8c7170fc95_n.jpg  \n",
            "  inflating: data/cropped_flowers/roses/4918137796_21f0922b0c_n.jpg  \n",
            "  inflating: data/cropped_flowers/roses/4921988677_e2eb0c9a24_m.jpg  \n",
            "  inflating: data/cropped_flowers/roses/494803274_f84f21d53a.jpg  \n",
            "  inflating: data/cropped_flowers/roses/4951581805_b049304f1b_n.jpg  \n",
            "  inflating: data/cropped_flowers/roses/4979895172_ca06eba616.jpg  \n",
            "  inflating: data/cropped_flowers/roses/4998708839_c53ee536a8_n.jpg  \n",
            "  inflating: data/cropped_flowers/roses/5050969148_a0090f762a.jpg  \n",
            "  inflating: data/cropped_flowers/roses/505517255_cfbb6f6394.jpg  \n",
            "  inflating: data/cropped_flowers/roses/5060519573_c628547e20_n.jpg  \n",
            "  inflating: data/cropped_flowers/roses/5060536705_b370a5c543_n.jpg  \n",
            "  inflating: data/cropped_flowers/roses/5061135742_2870a7b691_n.jpg  \n",
            "  inflating: data/cropped_flowers/roses/5088766459_f81f50e57d_n.jpg  \n",
            "  inflating: data/cropped_flowers/roses/5089363428_2c5a1272ea.jpg  \n",
            "  inflating: data/cropped_flowers/roses/509239741_28e2cfe492_m.jpg  \n",
            "  inflating: data/cropped_flowers/roses/512578026_f6e6f2ad26.jpg  \n",
            "  inflating: data/cropped_flowers/roses/512694812_48ba9c0b49_n.jpg  \n",
            "  inflating: data/cropped_flowers/roses/515121050_dcb99890be.jpg  \n",
            "  inflating: data/cropped_flowers/roses/5159317458_bbb22e2f65_n.jpg  \n",
            "  inflating: data/cropped_flowers/roses/5172171681_5934378f08.jpg  \n",
            "  inflating: data/cropped_flowers/roses/5182167964_9d1a0be0b8_n.jpg  \n",
            "  inflating: data/cropped_flowers/roses/5206847130_ee4bf0e4de_n.jpg  \n",
            "  inflating: data/cropped_flowers/roses/5231103167_a03280e9f6_n.jpg  \n",
            "  inflating: data/cropped_flowers/roses/5249439791_196b4e7fc7.jpg  \n",
            "  inflating: data/cropped_flowers/roses/5249566718_6109630c83_m.jpg  \n",
            "  inflating: data/cropped_flowers/roses/527513005_41497ca4dc.jpg  \n",
            "  inflating: data/cropped_flowers/roses/5292988046_a10f4b0365_n.jpg  \n",
            "  inflating: data/cropped_flowers/roses/5333437251_ce0aa6925d_n.jpg  \n",
            "  inflating: data/cropped_flowers/roses/534228982_4afbcece9b_m.jpg  \n",
            "  inflating: data/cropped_flowers/roses/5360769702_ec28c53b9e_n.jpg  \n",
            "  inflating: data/cropped_flowers/roses/537207677_f96a0507bb.jpg  \n",
            "  inflating: data/cropped_flowers/roses/537625768_791e973b40.jpg  \n",
            "  inflating: data/cropped_flowers/roses/5398974188_799753449c.jpg  \n",
            "  inflating: data/cropped_flowers/roses/5402157745_a384f0583d_n.jpg  \n",
            "  inflating: data/cropped_flowers/roses/5419629292_2f06e4b295.jpg  \n",
            "  inflating: data/cropped_flowers/roses/5487945052_bcb8e9fc8b_m.jpg  \n",
            "  inflating: data/cropped_flowers/roses/5492988531_574cdc2bf0_n.jpg  \n",
            "  inflating: data/cropped_flowers/roses/5526964611_76ef13025c_n.jpg  \n",
            "  inflating: data/cropped_flowers/roses/5529341024_0c35f2657d.jpg  \n",
            "  inflating: data/cropped_flowers/roses/5537794501_a0767743fd_n.jpg  \n",
            "  inflating: data/cropped_flowers/roses/5628552852_60bbe8d9b0_n.jpg  \n",
            "  inflating: data/cropped_flowers/roses/563847503_89e9756c80.jpg  \n",
            "  inflating: data/cropped_flowers/roses/568715474_bdb64ccc32.jpg  \n",
            "  inflating: data/cropped_flowers/roses/5717319579_190e85c7d1_m.jpg  \n",
            "  inflating: data/cropped_flowers/roses/5721768347_2ec4d2247b_n.jpg  \n",
            "  inflating: data/cropped_flowers/roses/5731750490_ba3325b7ee_n.jpg  \n",
            "  inflating: data/cropped_flowers/roses/5736328472_8f25e6f6e7.jpg  \n",
            "  inflating: data/cropped_flowers/roses/5777669976_a205f61e5b.jpg  \n",
            "  inflating: data/cropped_flowers/roses/5863698305_04a4277401_n.jpg  \n",
            "  inflating: data/cropped_flowers/roses/5897035797_e67bf68124_n.jpg  \n",
            "  inflating: data/cropped_flowers/roses/5990626258_697f007308_n.jpg  \n",
            "  inflating: data/cropped_flowers/roses/6039330368_c30ed224c4_m.jpg  \n",
            "  inflating: data/cropped_flowers/roses/6053143173_991c011b23.jpg  \n",
            "  inflating: data/cropped_flowers/roses/6108118824_5b0231a56d.jpg  \n",
            "  inflating: data/cropped_flowers/roses/6125332325_b768e08bd9_n.jpg  \n",
            "  inflating: data/cropped_flowers/roses/6158504080_b844a9ae05.jpg  \n",
            "  inflating: data/cropped_flowers/roses/6163179241_f093f45d95_n.jpg  \n",
            "  inflating: data/cropped_flowers/roses/6209630964_e8de48fe04_m.jpg  \n",
            "  inflating: data/cropped_flowers/roses/6231418894_7946a7712b_n.jpg  \n",
            "  inflating: data/cropped_flowers/roses/6255593451_b8a3aa8f7a_m.jpg  \n",
            "  inflating: data/cropped_flowers/roses/6347847065_83cf87333b_n.jpg  \n",
            "  inflating: data/cropped_flowers/roses/6363951285_a802238d4e.jpg  \n",
            "  inflating: data/cropped_flowers/roses/6653567281_768a1fd160.jpg  \n",
            "  inflating: data/cropped_flowers/roses/6687138903_ff6ae12758_n.jpg  \n",
            "  inflating: data/cropped_flowers/roses/6732261031_861a1026fa_n.jpg  \n",
            "  inflating: data/cropped_flowers/roses/685724528_6cd5cbe203.jpg  \n",
            "  inflating: data/cropped_flowers/roses/6867597533_d65d1c39fb_n.jpg  \n",
            "  inflating: data/cropped_flowers/roses/6879112993_5a29208438_n.jpg  \n",
            "  inflating: data/cropped_flowers/roses/6950609394_c53b8c6ac0_m.jpg  \n",
            "  inflating: data/cropped_flowers/roses/7186509956_c37c02fb43_n.jpg  \n",
            "  inflating: data/cropped_flowers/roses/7187035716_5d0fb95c31_n.jpg  \n",
            "  inflating: data/cropped_flowers/roses/7251352826_69b62cba2c_m.jpg  \n",
            "  inflating: data/cropped_flowers/roses/7285188160_49d84b95a3_m.jpg  \n",
            "  inflating: data/cropped_flowers/roses/7304710956_015b41f802_m.jpg  \n",
            "  inflating: data/cropped_flowers/roses/7345657862_689366e79a.jpg  \n",
            "  inflating: data/cropped_flowers/roses/7376471712_e1be793f94.jpg  \n",
            "  inflating: data/cropped_flowers/roses/7376473742_532364cee5_n.jpg  \n",
            "  inflating: data/cropped_flowers/roses/7409458444_0bfc9a0682_n.jpg  \n",
            "  inflating: data/cropped_flowers/roses/7420699022_60fa574524_m.jpg  \n",
            "  inflating: data/cropped_flowers/roses/7455236056_b6d71a8dab.jpg  \n",
            "  inflating: data/cropped_flowers/roses/7502389724_85b4a6c855_n.jpg  \n",
            "  inflating: data/cropped_flowers/roses/7525783408_0999483bf4_m.jpg  \n",
            "  inflating: data/cropped_flowers/roses/7551637034_55ae047756_n.jpg  \n",
            "  inflating: data/cropped_flowers/roses/7683456068_02644b8382_m.jpg  \n",
            "  inflating: data/cropped_flowers/roses/7865295712_bcc94d120c.jpg  \n",
            "  inflating: data/cropped_flowers/roses/8032328803_30afac8b07_m.jpg  \n",
            "  inflating: data/cropped_flowers/roses/8035910225_125beceb98_n.jpg  \n",
            "  inflating: data/cropped_flowers/roses/8181940917_1ac63937d5_n.jpg  \n",
            "  inflating: data/cropped_flowers/roses/8388497874_1fe750cc95_m.jpg  \n",
            "  inflating: data/cropped_flowers/roses/8394286483_69fe04cc7f.jpg  \n",
            "  inflating: data/cropped_flowers/roses/8437935944_aab997560a_n.jpg  \n",
            "  inflating: data/cropped_flowers/roses/8502529435_c6e40d0df4.jpg  \n",
            "  inflating: data/cropped_flowers/roses/850416050_31b3ff7086.jpg  \n",
            "  inflating: data/cropped_flowers/roses/8516036987_8a06dfe1b5_n.jpg  \n",
            "  inflating: data/cropped_flowers/roses/8523394349_61b31fdd8f_m.jpg  \n",
            "  inflating: data/cropped_flowers/roses/8524505682_bda885af3a_n.jpg  \n",
            "  inflating: data/cropped_flowers/roses/8667746487_781af9e615_n.jpg  \n",
            "  inflating: data/cropped_flowers/roses/8671682526_7058143c99.jpg  \n",
            "  inflating: data/cropped_flowers/roses/8674140377_ae7b0be523.jpg  \n",
            "  inflating: data/cropped_flowers/roses/8692040971_826614516f_n.jpg  \n",
            "  inflating: data/cropped_flowers/roses/873660804_37f5c6a46e_n.jpg  \n",
            "  inflating: data/cropped_flowers/roses/8742493689_fb852f0228_n.jpg  \n",
            "  inflating: data/cropped_flowers/roses/8747396730_966149e6fe_n.jpg  \n",
            "  inflating: data/cropped_flowers/roses/898102603_2d5152f09a.jpg  \n",
            "  inflating: data/cropped_flowers/roses/8983268106_dc913d17d8_m.jpg  \n",
            "  inflating: data/cropped_flowers/roses/909277823_e6fb8cb5c8_n.jpg  \n",
            "  inflating: data/cropped_flowers/roses/9159362388_c6f4cf3812_n.jpg  \n",
            "  inflating: data/cropped_flowers/roses/9160289562_ab2718d19b.jpg  \n",
            "  inflating: data/cropped_flowers/roses/9164900485_605aa12da8.jpg  \n",
            "  inflating: data/cropped_flowers/roses/9164924345_6b63637acf.jpg  \n",
            "  inflating: data/cropped_flowers/roses/9167147034_0a66ee3616_n.jpg  \n",
            "  inflating: data/cropped_flowers/roses/921138131_9e1393eb2b_m.jpg  \n",
            "  inflating: data/cropped_flowers/roses/9216324117_5fa1e2bc25_n.jpg  \n",
            "  inflating: data/cropped_flowers/roses/921984328_a60076f070_m.jpg  \n",
            "  inflating: data/cropped_flowers/roses/9309388105_12c0b8dd54_m.jpg  \n",
            "  inflating: data/cropped_flowers/roses/9320934277_4fb95aef5d_n.jpg  \n",
            "  inflating: data/cropped_flowers/roses/9338237628_4d2547608c.jpg  \n",
            "  inflating: data/cropped_flowers/roses/9353111163_7a89b2df35_n.jpg  \n",
            "  inflating: data/cropped_flowers/roses/9404876600_04f6d37685.jpg  \n",
            "  inflating: data/cropped_flowers/roses/9458445402_79e4dfa89c.jpg  \n",
            "  inflating: data/cropped_flowers/roses/9614492283_66020fb4eb_n.jpg  \n",
            "   creating: data/cropped_flowers/sunflowers/\n",
            "  inflating: data/cropped_flowers/sunflowers/1008566138_6927679c8a.jpg  \n",
            "  inflating: data/cropped_flowers/sunflowers/1022552002_2b93faf9e7_n.jpg  \n",
            "  inflating: data/cropped_flowers/sunflowers/10386503264_e05387e1f7_m.jpg  \n",
            "  inflating: data/cropped_flowers/sunflowers/10386540106_1431e73086_m.jpg  \n",
            "  inflating: data/cropped_flowers/sunflowers/1043442695_4556c4c13d_n.jpg  \n",
            "  inflating: data/cropped_flowers/sunflowers/1044296388_912143e1d4.jpg  \n",
            "  inflating: data/cropped_flowers/sunflowers/11881770944_22b4f2f8f6_n.jpg  \n",
            "  inflating: data/cropped_flowers/sunflowers/1217254584_4b3028b93d.jpg  \n",
            "  inflating: data/cropped_flowers/sunflowers/1240624822_4111dde542.jpg  \n",
            "  inflating: data/cropped_flowers/sunflowers/1240625276_fb3bd0c7b1.jpg  \n",
            "  inflating: data/cropped_flowers/sunflowers/1244774242_25a20d99a9.jpg  \n",
            "  inflating: data/cropped_flowers/sunflowers/12471290635_1f9e3aae16_n.jpg  \n",
            "  inflating: data/cropped_flowers/sunflowers/12471441503_d188b5f31a_m.jpg  \n",
            "  inflating: data/cropped_flowers/sunflowers/12471791574_bb1be83df4.jpg  \n",
            "  inflating: data/cropped_flowers/sunflowers/1297092593_e573c0a3d6.jpg  \n",
            "  inflating: data/cropped_flowers/sunflowers/13095941995_9a66faa713_n.jpg  \n",
            "  inflating: data/cropped_flowers/sunflowers/13096076565_72c2c60875_n.jpg  \n",
            "  inflating: data/cropped_flowers/sunflowers/13117907313_86c99c6441.jpg  \n",
            "  inflating: data/cropped_flowers/sunflowers/1314584013_fe935fdeb1_n.jpg  \n",
            "  inflating: data/cropped_flowers/sunflowers/1379256773_bb2eb0d95b_n.jpg  \n",
            "  inflating: data/cropped_flowers/sunflowers/13959937305_2f5c532886_n.jpg  \n",
            "  inflating: data/cropped_flowers/sunflowers/14121915990_4b76718077_m.jpg  \n",
            "  inflating: data/cropped_flowers/sunflowers/14144522269_bc20029375_m.jpg  \n",
            "  inflating: data/cropped_flowers/sunflowers/1419608016_707b887337_n.jpg  \n",
            "  inflating: data/cropped_flowers/sunflowers/14460075029_5cd715bb72_m.jpg  \n",
            "  inflating: data/cropped_flowers/sunflowers/14472246629_72373111e6_m.jpg  \n",
            "  inflating: data/cropped_flowers/sunflowers/145303599_2627e23815_n.jpg  \n",
            "  inflating: data/cropped_flowers/sunflowers/14623719696_1bb7970208_n.jpg  \n",
            "  inflating: data/cropped_flowers/sunflowers/14623720226_aeeac66e0a_n.jpg  \n",
            "  inflating: data/cropped_flowers/sunflowers/14646279002_9cdf97be97_n.jpg  \n",
            "  inflating: data/cropped_flowers/sunflowers/14646280372_dd50be16e4_n.jpg  \n",
            "  inflating: data/cropped_flowers/sunflowers/14646281372_5f13794b47.jpg  \n",
            "  inflating: data/cropped_flowers/sunflowers/14678298676_6db8831ee6_m.jpg  \n",
            "  inflating: data/cropped_flowers/sunflowers/14741812319_e1d32ffb84_n.jpg  \n",
            "  inflating: data/cropped_flowers/sunflowers/14741813010_5d44e33088_n.jpg  \n",
            "  inflating: data/cropped_flowers/sunflowers/14741866338_bdc8bfc8d5_n.jpg  \n",
            "  inflating: data/cropped_flowers/sunflowers/14889392928_9742aed45b_m.jpg  \n",
            "  inflating: data/cropped_flowers/sunflowers/14901528533_ac1ce09063.jpg  \n",
            "  inflating: data/cropped_flowers/sunflowers/14921668662_3ffc5b9db3_n.jpg  \n",
            "  inflating: data/cropped_flowers/sunflowers/14925397351_c7f209d804_n.jpg  \n",
            "  inflating: data/cropped_flowers/sunflowers/14925397651_97dcddc383_n.jpg  \n",
            "  inflating: data/cropped_flowers/sunflowers/14925397761_46ecfa24e0.jpg  \n",
            "  inflating: data/cropped_flowers/sunflowers/14925398301_55a180f919_n.jpg  \n",
            "  inflating: data/cropped_flowers/sunflowers/14925398441_107f3e0304_n.jpg  \n",
            "  inflating: data/cropped_flowers/sunflowers/14928117202_139d2142cc_n.jpg  \n",
            "  inflating: data/cropped_flowers/sunflowers/14932787983_d6e05f2434_m.jpg  \n",
            "  inflating: data/cropped_flowers/sunflowers/14955545254_324cd4ee75.jpg  \n",
            "  inflating: data/cropped_flowers/sunflowers/15042911059_b6153d94e7_n.jpg  \n",
            "  inflating: data/cropped_flowers/sunflowers/15054751430_5af76f6096_n.jpg  \n",
            "  inflating: data/cropped_flowers/sunflowers/15054865217_e398d0dc9f_n.jpg  \n",
            "  inflating: data/cropped_flowers/sunflowers/15054865768_2cc87ac9d4_m.jpg  \n",
            "  inflating: data/cropped_flowers/sunflowers/15054866658_c1a6223403_m.jpg  \n",
            "  inflating: data/cropped_flowers/sunflowers/15054866898_60ee50ec6b_n.jpg  \n",
            "  inflating: data/cropped_flowers/sunflowers/15066430311_fb57fa92b0_m.jpg  \n",
            "  inflating: data/cropped_flowers/sunflowers/15069459615_7e0fd61914_n.jpg  \n",
            "  inflating: data/cropped_flowers/sunflowers/15072973261_73e2912ef2_n.jpg  \n",
            "  inflating: data/cropped_flowers/sunflowers/15118243470_7e0a7f159c_n.jpg  \n",
            "  inflating: data/cropped_flowers/sunflowers/15118397087_bfb7ea70d5_n.jpg  \n",
            "  inflating: data/cropped_flowers/sunflowers/151898652_b5f1c70b98_n.jpg  \n",
            "  inflating: data/cropped_flowers/sunflowers/15238348741_c2fb12ecf2_m.jpg  \n",
            "  inflating: data/cropped_flowers/sunflowers/15240466871_ec45b65554_m.jpg  \n",
            "  inflating: data/cropped_flowers/sunflowers/15243175532_ac28c48e14_m.jpg  \n",
            "  inflating: data/cropped_flowers/sunflowers/15380755137_a2e67839ab_m.jpg  \n",
            "  inflating: data/cropped_flowers/sunflowers/15472217046_2699b25584.jpg  \n",
            "  inflating: data/cropped_flowers/sunflowers/15495578821_92c6d14252_n.jpg  \n",
            "  inflating: data/cropped_flowers/sunflowers/15495579081_661cb260d1_n.jpg  \n",
            "  inflating: data/cropped_flowers/sunflowers/15745084272_36402f5ee6_n.jpg  \n",
            "  inflating: data/cropped_flowers/sunflowers/1596293240_2d5b53495a_m.jpg  \n",
            "  inflating: data/cropped_flowers/sunflowers/16143151468_4f3c033e33.jpg  \n",
            "  inflating: data/cropped_flowers/sunflowers/164668737_aeab0cb55e_n.jpg  \n",
            "  inflating: data/cropped_flowers/sunflowers/164670176_9f5b9c7965.jpg  \n",
            "  inflating: data/cropped_flowers/sunflowers/164670455_29d8e02bbd_n.jpg  \n",
            "  inflating: data/cropped_flowers/sunflowers/164671753_ab36d9cbb7_n.jpg  \n",
            "  inflating: data/cropped_flowers/sunflowers/164672339_f2b5b164f6.jpg  \n",
            "  inflating: data/cropped_flowers/sunflowers/16832961488_5f7e70eb5e_n.jpg  \n",
            "  inflating: data/cropped_flowers/sunflowers/16975010069_7afd290657_m.jpg  \n",
            "  inflating: data/cropped_flowers/sunflowers/16988605969_570329ff20_n.jpg  \n",
            "  inflating: data/cropped_flowers/sunflowers/17148843706_df148301ac_n.jpg  \n",
            "  inflating: data/cropped_flowers/sunflowers/1715303025_e7065327e2.jpg  \n",
            "  inflating: data/cropped_flowers/sunflowers/17433282043_441b0a07f4_n.jpg  \n",
            "  inflating: data/cropped_flowers/sunflowers/1788133737_b1133d1aa7.jpg  \n",
            "  inflating: data/cropped_flowers/sunflowers/184682095_46f8607278.jpg  \n",
            "  inflating: data/cropped_flowers/sunflowers/184682320_73ccf74710.jpg  \n",
            "  inflating: data/cropped_flowers/sunflowers/184682920_97ae41ce60_m.jpg  \n",
            "  inflating: data/cropped_flowers/sunflowers/184683023_737fec5b18.jpg  \n",
            "  inflating: data/cropped_flowers/sunflowers/18766965343_9f42d4bedc_m.jpg  \n",
            "  inflating: data/cropped_flowers/sunflowers/1880606744_23e3dc4f6b_n.jpg  \n",
            "  inflating: data/cropped_flowers/sunflowers/18828277053_1493158b28.jpg  \n",
            "  inflating: data/cropped_flowers/sunflowers/18828283553_e46504ae38.jpg  \n",
            "  inflating: data/cropped_flowers/sunflowers/18972803569_1a0634f398_m.jpg  \n",
            "  inflating: data/cropped_flowers/sunflowers/19359539074_d7e32e6616_n.jpg  \n",
            "  inflating: data/cropped_flowers/sunflowers/19442589512_e733cfea0f.jpg  \n",
            "  inflating: data/cropped_flowers/sunflowers/19453165201_2aa747e0bf.jpg  \n",
            "  inflating: data/cropped_flowers/sunflowers/19508264965_d1dfb565ea_n.jpg  \n",
            "  inflating: data/cropped_flowers/sunflowers/19595718862_c68896370c_m.jpg  \n",
            "  inflating: data/cropped_flowers/sunflowers/197011740_21825de2bf.jpg  \n",
            "  inflating: data/cropped_flowers/sunflowers/19710925313_31682fa22b_m.jpg  \n",
            "  inflating: data/cropped_flowers/sunflowers/19915160340_ec904edbdf_n.jpg  \n",
            "  inflating: data/cropped_flowers/sunflowers/20022771089_3cc7e5086d_m.jpg  \n",
            "  inflating: data/cropped_flowers/sunflowers/200288046_0032f322ff_n.jpg  \n",
            "  inflating: data/cropped_flowers/sunflowers/200557977_bf24d9550b.jpg  \n",
            "  inflating: data/cropped_flowers/sunflowers/200557979_a16112aac1_n.jpg  \n",
            "  inflating: data/cropped_flowers/sunflowers/200557981_f800fa1af9.jpg  \n",
            "  inflating: data/cropped_flowers/sunflowers/200557983_10a88672fc.jpg  \n",
            "  inflating: data/cropped_flowers/sunflowers/20078409301_aa8061bd0b_n.jpg  \n",
            "  inflating: data/cropped_flowers/sunflowers/20156280765_a6baea3176.jpg  \n",
            "  inflating: data/cropped_flowers/sunflowers/20183071136_c297e74fcc_m.jpg  \n",
            "  inflating: data/cropped_flowers/sunflowers/20344366953_44fb51051b.jpg  \n",
            "  inflating: data/cropped_flowers/sunflowers/20406385204_469f6749e2_n.jpg  \n",
            "  inflating: data/cropped_flowers/sunflowers/20407896403_a50fef58ac_n.jpg  \n",
            "  inflating: data/cropped_flowers/sunflowers/20410533613_56da1cce7c.jpg  \n",
            "  inflating: data/cropped_flowers/sunflowers/20410697750_c43973d1eb.jpg  \n",
            "  inflating: data/cropped_flowers/sunflowers/20481273479_d459834a3e_n.jpg  \n",
            "  inflating: data/cropped_flowers/sunflowers/20658775992_1619cd0a9b_n.jpg  \n",
            "  inflating: data/cropped_flowers/sunflowers/20777375650_ef854bf645.jpg  \n",
            "  inflating: data/cropped_flowers/sunflowers/20965412955_2c640b13bd.jpg  \n",
            "  inflating: data/cropped_flowers/sunflowers/20972862281_5367f4af88.jpg  \n",
            "  inflating: data/cropped_flowers/sunflowers/20972866151_e6a928b00a.jpg  \n",
            "  inflating: data/cropped_flowers/sunflowers/21134000558_d7d6c9b1fe_n.jpg  \n",
            "  inflating: data/cropped_flowers/sunflowers/21349789961_18ba1af5b7_n.jpg  \n",
            "  inflating: data/cropped_flowers/sunflowers/21518663809_3d69f5b995_n.jpg  \n",
            "  inflating: data/cropped_flowers/sunflowers/21728822928_9f6817325a_n.jpg  \n",
            "  inflating: data/cropped_flowers/sunflowers/21821266773_7113d34c35_m.jpg  \n",
            "  inflating: data/cropped_flowers/sunflowers/21984860006_20dfacea1c_m.jpg  \n",
            "  inflating: data/cropped_flowers/sunflowers/21995435890_e5672244a4_m.jpg  \n",
            "  inflating: data/cropped_flowers/sunflowers/22183521655_56221bf2a4_n.jpg  \n",
            "  inflating: data/cropped_flowers/sunflowers/22183529245_ce13557515_m.jpg  \n",
            "  inflating: data/cropped_flowers/sunflowers/22429146402_332fa2fc72_m.jpg  \n",
            "  inflating: data/cropped_flowers/sunflowers/22686342422_c0b9e2f38e.jpg  \n",
            "  inflating: data/cropped_flowers/sunflowers/22992257000_76dbc599e7_m.jpg  \n",
            "  inflating: data/cropped_flowers/sunflowers/23204123212_ef32fbafbe.jpg  \n",
            "  inflating: data/cropped_flowers/sunflowers/23247483352_0defc7a6dc_n.jpg  \n",
            "  inflating: data/cropped_flowers/sunflowers/23286304156_3635f7de05.jpg  \n",
            "  inflating: data/cropped_flowers/sunflowers/23894449029_bf0f34d35d_n.jpg  \n",
            "  inflating: data/cropped_flowers/sunflowers/2425164088_4a5d2cdf21_n.jpg  \n",
            "  inflating: data/cropped_flowers/sunflowers/2442985637_8748180f69.jpg  \n",
            "  inflating: data/cropped_flowers/sunflowers/2443921986_d4582c123a.jpg  \n",
            "  inflating: data/cropped_flowers/sunflowers/24459548_27a783feda.jpg  \n",
            "  inflating: data/cropped_flowers/sunflowers/24459750_eb49f6e4cb_m.jpg  \n",
            "  inflating: data/cropped_flowers/sunflowers/2588234269_c4bfd0d8b9_n.jpg  \n",
            "  inflating: data/cropped_flowers/sunflowers/2588453601_66f2a03cca_n.jpg  \n",
            "  inflating: data/cropped_flowers/sunflowers/2598973480_07de93e91d_n.jpg  \n",
            "  inflating: data/cropped_flowers/sunflowers/2619000556_6634478e64_n.jpg  \n",
            "  inflating: data/cropped_flowers/sunflowers/2678588376_6ca64a4a54_n.jpg  \n",
            "  inflating: data/cropped_flowers/sunflowers/2689228449_e0be72cf00_n.jpg  \n",
            "  inflating: data/cropped_flowers/sunflowers/2694860538_b95d60122c_m.jpg  \n",
            "  inflating: data/cropped_flowers/sunflowers/2697194548_ec8f8de97c_n.jpg  \n",
            "  inflating: data/cropped_flowers/sunflowers/2706736074_b0fba20b3e.jpg  \n",
            "  inflating: data/cropped_flowers/sunflowers/2721638730_34a9b7a78b.jpg  \n",
            "  inflating: data/cropped_flowers/sunflowers/27465811_9477c9d044.jpg  \n",
            "  inflating: data/cropped_flowers/sunflowers/27466794_57e4fe5656.jpg  \n",
            "  inflating: data/cropped_flowers/sunflowers/274846229_990e976683_n.jpg  \n",
            "  inflating: data/cropped_flowers/sunflowers/274848710_5185cf33b1_n.jpg  \n",
            "  inflating: data/cropped_flowers/sunflowers/2767688889_b176b0c3fb.jpg  \n",
            "  inflating: data/cropped_flowers/sunflowers/2816256710_a2d3616fae.jpg  \n",
            "  inflating: data/cropped_flowers/sunflowers/287233531_74d4605814_m.jpg  \n",
            "  inflating: data/cropped_flowers/sunflowers/2883115609_5a69357b5d_m.jpg  \n",
            "  inflating: data/cropped_flowers/sunflowers/2883115621_4837267ea1_m.jpg  \n",
            "  inflating: data/cropped_flowers/sunflowers/2894191705_a1d2d80c80.jpg  \n",
            "  inflating: data/cropped_flowers/sunflowers/2895404754_6d9f9416d7_n.jpg  \n",
            "  inflating: data/cropped_flowers/sunflowers/2927020075_54c9186797_n.jpg  \n",
            "  inflating: data/cropped_flowers/sunflowers/2950505226_529e013bf7_m.jpg  \n",
            "  inflating: data/cropped_flowers/sunflowers/2960610406_b61930727f_n.jpg  \n",
            "  inflating: data/cropped_flowers/sunflowers/2979133707_84aab35b5d.jpg  \n",
            "  inflating: data/cropped_flowers/sunflowers/2996573407_5e473b9359.jpg  \n",
            "  inflating: data/cropped_flowers/sunflowers/3001533700_1c62fb8b4a_n.jpg  \n",
            "  inflating: data/cropped_flowers/sunflowers/3062794421_295f8c2c4e.jpg  \n",
            "  inflating: data/cropped_flowers/sunflowers/3146795631_d062f233c1.jpg  \n",
            "  inflating: data/cropped_flowers/sunflowers/3154932076_eff5c38231_n.jpg  \n",
            "  inflating: data/cropped_flowers/sunflowers/3154932290_4bf43bd34f_n.jpg  \n",
            "  inflating: data/cropped_flowers/sunflowers/3334350831_f8755a2095_n.jpg  \n",
            "  inflating: data/cropped_flowers/sunflowers/3466923719_b4b6df7f8b_n.jpg  \n",
            "  inflating: data/cropped_flowers/sunflowers/3514340206_efb8198a80_n.jpg  \n",
            "  inflating: data/cropped_flowers/sunflowers/3568114325_d6b1363497.jpg  \n",
            "  inflating: data/cropped_flowers/sunflowers/3568925290_faf7aec3a0.jpg  \n",
            "  inflating: data/cropped_flowers/sunflowers/3575811488_a31714472a.jpg  \n",
            "  inflating: data/cropped_flowers/sunflowers/3596902268_049e33a2cb_n.jpg  \n",
            "  inflating: data/cropped_flowers/sunflowers/3665455426_9cd1c3af4a_n.jpg  \n",
            "  inflating: data/cropped_flowers/sunflowers/3681233294_4f06cd8903.jpg  \n",
            "  inflating: data/cropped_flowers/sunflowers/3731075939_6c92d7fe68_m.jpg  \n",
            "  inflating: data/cropped_flowers/sunflowers/3734999477_7f454081aa_n.jpg  \n",
            "  inflating: data/cropped_flowers/sunflowers/3749090865_b90f28a585_n.jpg  \n",
            "  inflating: data/cropped_flowers/sunflowers/3798841385_38142ea3c6_n.jpg  \n",
            "  inflating: data/cropped_flowers/sunflowers/3846717708_ea11383ed8.jpg  \n",
            "  inflating: data/cropped_flowers/sunflowers/3846907701_e13b66aa87.jpg  \n",
            "  inflating: data/cropped_flowers/sunflowers/3893436870_034b79d118_n.jpg  \n",
            "  inflating: data/cropped_flowers/sunflowers/3894586562_5dbbdc4354_n.jpg  \n",
            "  inflating: data/cropped_flowers/sunflowers/3897174387_07aac6bf5f_n.jpg  \n",
            "  inflating: data/cropped_flowers/sunflowers/3912497870_a2f91c3a65_n.jpg  \n",
            "  inflating: data/cropped_flowers/sunflowers/3912497888_e7a5905bc3_n.jpg  \n",
            "  inflating: data/cropped_flowers/sunflowers/3951246342_930138610b_n.jpg  \n",
            "  inflating: data/cropped_flowers/sunflowers/4019748730_ee09b39a43.jpg  \n",
            "  inflating: data/cropped_flowers/sunflowers/40410814_fba3837226_n.jpg  \n",
            "  inflating: data/cropped_flowers/sunflowers/40410963_3ac280f23a_n.jpg  \n",
            "  inflating: data/cropped_flowers/sunflowers/40411019_526f3fc8d9_m.jpg  \n",
            "  inflating: data/cropped_flowers/sunflowers/4042816698_578a1d599e.jpg  \n",
            "  inflating: data/cropped_flowers/sunflowers/4110787181_f73f12d107_m.jpg  \n",
            "  inflating: data/cropped_flowers/sunflowers/4160805260_cf758daeae_n.jpg  \n",
            "  inflating: data/cropped_flowers/sunflowers/4271193206_666ef60aa0_m.jpg  \n",
            "  inflating: data/cropped_flowers/sunflowers/4398771472_44f2a0c162_n.jpg  \n",
            "  inflating: data/cropped_flowers/sunflowers/44079668_34dfee3da1_n.jpg  \n",
            "  inflating: data/cropped_flowers/sunflowers/4414081772_8a0e8a1327.jpg  \n",
            "  inflating: data/cropped_flowers/sunflowers/4414084638_03d2db38ae.jpg  \n",
            "  inflating: data/cropped_flowers/sunflowers/4489516263_e49fe82637_n.jpg  \n",
            "  inflating: data/cropped_flowers/sunflowers/45045003_30bbd0a142_m.jpg  \n",
            "  inflating: data/cropped_flowers/sunflowers/45045005_57354ee844.jpg  \n",
            "  inflating: data/cropped_flowers/sunflowers/4623843480_23e3fb8dcc_n.jpg  \n",
            "  inflating: data/cropped_flowers/sunflowers/4625255191_26e17a28c9_n.jpg  \n",
            "  inflating: data/cropped_flowers/sunflowers/4626721387_88f89d5cc9_n.jpg  \n",
            "  inflating: data/cropped_flowers/sunflowers/4664737020_b4c61aacd3_n.jpg  \n",
            "  inflating: data/cropped_flowers/sunflowers/4664767140_fe01231322_n.jpg  \n",
            "  inflating: data/cropped_flowers/sunflowers/4673984698_6ec14d5b79.jpg  \n",
            "  inflating: data/cropped_flowers/sunflowers/4745991955_6804568ae0_n.jpg  \n",
            "  inflating: data/cropped_flowers/sunflowers/4746643626_02b2d056a2_n.jpg  \n",
            "  inflating: data/cropped_flowers/sunflowers/4746648726_e37a2de16d_n.jpg  \n",
            "  inflating: data/cropped_flowers/sunflowers/4746668678_0e2693b1b9_n.jpg  \n",
            "  inflating: data/cropped_flowers/sunflowers/4755075329_1fccc69d4e.jpg  \n",
            "  inflating: data/cropped_flowers/sunflowers/4755705724_976621a1e7.jpg  \n",
            "  inflating: data/cropped_flowers/sunflowers/4804434999_bf2187e96a_n.jpg  \n",
            "  inflating: data/cropped_flowers/sunflowers/4813483281_f3707a71e7_n.jpg  \n",
            "  inflating: data/cropped_flowers/sunflowers/4814106562_7c3564d2d9_n.jpg  \n",
            "  inflating: data/cropped_flowers/sunflowers/4816636411_0135bfe2c9_n.jpg  \n",
            "  inflating: data/cropped_flowers/sunflowers/4831577091_f56157a5d5_n.jpg  \n",
            "  inflating: data/cropped_flowers/sunflowers/4847062576_bae870479c_n.jpg  \n",
            "  inflating: data/cropped_flowers/sunflowers/4848279231_c4960e28b2_n.jpg  \n",
            "  inflating: data/cropped_flowers/sunflowers/4869189730_f47c124cda_n.jpg  \n",
            "  inflating: data/cropped_flowers/sunflowers/4872284527_ff52128b97.jpg  \n",
            "  inflating: data/cropped_flowers/sunflowers/4878447831_e904c60cf8_n.jpg  \n",
            "  inflating: data/cropped_flowers/sunflowers/4890268276_563f40a193.jpg  \n",
            "  inflating: data/cropped_flowers/sunflowers/4893660821_eb7f02bef3_n.jpg  \n",
            "  inflating: data/cropped_flowers/sunflowers/4895721242_89014e723c_n.jpg  \n",
            "  inflating: data/cropped_flowers/sunflowers/4914793782_d0ea760791.jpg  \n",
            "  inflating: data/cropped_flowers/sunflowers/4932144003_cbffc89bf0.jpg  \n",
            "  inflating: data/cropped_flowers/sunflowers/4932736136_0115955987.jpg  \n",
            "  inflating: data/cropped_flowers/sunflowers/4932736308_827012cff2.jpg  \n",
            "  inflating: data/cropped_flowers/sunflowers/4933229357_1c5cc03f65_m.jpg  \n",
            "  inflating: data/cropped_flowers/sunflowers/4940287066_385afd9c18_m.jpg  \n",
            "  inflating: data/cropped_flowers/sunflowers/4977385375_e271e282f9.jpg  \n",
            "  inflating: data/cropped_flowers/sunflowers/4980406384_791774d953.jpg  \n",
            "  inflating: data/cropped_flowers/sunflowers/4989952542_35f2cdd5e2_n.jpg  \n",
            "  inflating: data/cropped_flowers/sunflowers/5004121118_e9393e60d0_n.jpg  \n",
            "  inflating: data/cropped_flowers/sunflowers/5015462205_440898fe41_n.jpg  \n",
            "  inflating: data/cropped_flowers/sunflowers/5025805406_033cb03475_n.jpg  \n",
            "  inflating: data/cropped_flowers/sunflowers/5028817729_f04d32bac8_n.jpg  \n",
            "  inflating: data/cropped_flowers/sunflowers/5032376020_2ed312306c.jpg  \n",
            "  inflating: data/cropped_flowers/sunflowers/5042785753_392cc4e74d_n.jpg  \n",
            "  inflating: data/cropped_flowers/sunflowers/5043409856_395300dbe5_m.jpg  \n",
            "  inflating: data/cropped_flowers/sunflowers/5076821914_c21b58fd4c_m.jpg  \n",
            "  inflating: data/cropped_flowers/sunflowers/50987813_7484bfbcdf.jpg  \n",
            "  inflating: data/cropped_flowers/sunflowers/5139969631_743880e01d_n.jpg  \n",
            "  inflating: data/cropped_flowers/sunflowers/5139969871_c9046bdaa7_n.jpg  \n",
            "  inflating: data/cropped_flowers/sunflowers/5139977283_530c508603_n.jpg  \n",
            "  inflating: data/cropped_flowers/sunflowers/5139977423_d413b23fde_m.jpg  \n",
            "  inflating: data/cropped_flowers/sunflowers/5139977579_ea2dd6a322_m.jpg  \n",
            "  inflating: data/cropped_flowers/sunflowers/5293283002_9b17f085f7_m.jpg  \n",
            "  inflating: data/cropped_flowers/sunflowers/5830614551_e460a1215c.jpg  \n",
            "  inflating: data/cropped_flowers/sunflowers/5917253022_4e3142d48b_n.jpg  \n",
            "  inflating: data/cropped_flowers/sunflowers/5923085671_f81dd1cf6f.jpg  \n",
            "  inflating: data/cropped_flowers/sunflowers/5923649444_a823e534e9.jpg  \n",
            "  inflating: data/cropped_flowers/sunflowers/5951665793_8ae4807cbd_n.jpg  \n",
            "  inflating: data/cropped_flowers/sunflowers/5952223760_85972671d6_n.jpg  \n",
            "  inflating: data/cropped_flowers/sunflowers/5955500463_6c08cb199e.jpg  \n",
            "  inflating: data/cropped_flowers/sunflowers/5966729883_67f4fede93.jpg  \n",
            "  inflating: data/cropped_flowers/sunflowers/5967284308_85714d8cf7_m.jpg  \n",
            "  inflating: data/cropped_flowers/sunflowers/5970300143_36b42437de_n.jpg  \n",
            "  inflating: data/cropped_flowers/sunflowers/5970301989_fe3a68aac8_m.jpg  \n",
            "  inflating: data/cropped_flowers/sunflowers/5970868068_fe1c8b282e_n.jpg  \n",
            "  inflating: data/cropped_flowers/sunflowers/5970869550_d7d9fabebd_n.jpg  \n",
            "  inflating: data/cropped_flowers/sunflowers/5973935729_2868f2db1f_n.jpg  \n",
            "  inflating: data/cropped_flowers/sunflowers/5979111025_3bcae48ae6_n.jpg  \n",
            "  inflating: data/cropped_flowers/sunflowers/5979111199_495884b578_n.jpg  \n",
            "  inflating: data/cropped_flowers/sunflowers/5979111555_61b400c070_n.jpg  \n",
            "  inflating: data/cropped_flowers/sunflowers/5979669004_d9736206c9_n.jpg  \n",
            "  inflating: data/cropped_flowers/sunflowers/5994569021_749d5e2da3_n.jpg  \n",
            "  inflating: data/cropped_flowers/sunflowers/5994572653_ea98afa3af_n.jpg  \n",
            "  inflating: data/cropped_flowers/sunflowers/5994586159_1dd99d66b4_n.jpg  \n",
            "  inflating: data/cropped_flowers/sunflowers/5995136822_8e1eed76f5_n.jpg  \n",
            "  inflating: data/cropped_flowers/sunflowers/6042014768_b57f0bfc79_n.jpg  \n",
            "  inflating: data/cropped_flowers/sunflowers/6080086410_17a02dcfb8.jpg  \n",
            "  inflating: data/cropped_flowers/sunflowers/6116210027_61923f4b64.jpg  \n",
            "  inflating: data/cropped_flowers/sunflowers/6198569587_23c3693328_m.jpg  \n",
            "  inflating: data/cropped_flowers/sunflowers/6199086734_b7ddc65816_m.jpg  \n",
            "  inflating: data/cropped_flowers/sunflowers/6250692311_cb60c85ee9_n.jpg  \n",
            "  inflating: data/cropped_flowers/sunflowers/6265084065_7a8b30cc6e_n.jpg  \n",
            "  inflating: data/cropped_flowers/sunflowers/6482016425_d8fab362f6.jpg  \n",
            "  inflating: data/cropped_flowers/sunflowers/6482016439_b0d06dac04.jpg  \n",
            "  inflating: data/cropped_flowers/sunflowers/6495554833_86eb8faa8e_n.jpg  \n",
            "  inflating: data/cropped_flowers/sunflowers/6495559397_61d01c0c57.jpg  \n",
            "  inflating: data/cropped_flowers/sunflowers/6606815161_3c4372760f.jpg  \n",
            "  inflating: data/cropped_flowers/sunflowers/6606817351_10f6e43a09.jpg  \n",
            "  inflating: data/cropped_flowers/sunflowers/6606820461_952c450f90_n.jpg  \n",
            "  inflating: data/cropped_flowers/sunflowers/6606823367_e89dc52a95_n.jpg  \n",
            "  inflating: data/cropped_flowers/sunflowers/6627521877_6e43fb3c49_m.jpg  \n",
            "  inflating: data/cropped_flowers/sunflowers/678714585_addc9aaaef.jpg  \n",
            "  inflating: data/cropped_flowers/sunflowers/7176723954_e41618edc1_n.jpg  \n",
            "  inflating: data/cropped_flowers/sunflowers/7176736574_14446539cb_n.jpg  \n",
            "  inflating: data/cropped_flowers/sunflowers/7369484298_332f69bd88_n.jpg  \n",
            "  inflating: data/cropped_flowers/sunflowers/7510240282_87554c7418_n.jpg  \n",
            "  inflating: data/cropped_flowers/sunflowers/7510262868_cf7d6f6f25_n.jpg  \n",
            "  inflating: data/cropped_flowers/sunflowers/7652532108_01ef94c476.jpg  \n",
            "  inflating: data/cropped_flowers/sunflowers/7728953426_abd179ab63.jpg  \n",
            "  inflating: data/cropped_flowers/sunflowers/7791014076_07a897cb85_n.jpg  \n",
            "  inflating: data/cropped_flowers/sunflowers/7820305664_82148f3bfb_n.jpg  \n",
            "  inflating: data/cropped_flowers/sunflowers/7935826214_9b57628203_m.jpg  \n",
            "  inflating: data/cropped_flowers/sunflowers/8038712786_5bdeed3c7f_m.jpg  \n",
            "  inflating: data/cropped_flowers/sunflowers/8174935013_b16626b49b.jpg  \n",
            "  inflating: data/cropped_flowers/sunflowers/8174935717_d19367d502.jpg  \n",
            "  inflating: data/cropped_flowers/sunflowers/821368661_4ab4343f5a.jpg  \n",
            "  inflating: data/cropped_flowers/sunflowers/8234846550_fdaf326dbe.jpg  \n",
            "  inflating: data/cropped_flowers/sunflowers/8249000137_eddfffa380_n.jpg  \n",
            "  inflating: data/cropped_flowers/sunflowers/8292914969_4a76608250_m.jpg  \n",
            "  inflating: data/cropped_flowers/sunflowers/8480886751_71d88bfdc0_n.jpg  \n",
            "  inflating: data/cropped_flowers/sunflowers/8563099326_8be9177101.jpg  \n",
            "  inflating: data/cropped_flowers/sunflowers/857698097_8068a2c135_n.jpg  \n",
            "  inflating: data/cropped_flowers/sunflowers/8705462313_4458d64cd4.jpg  \n",
            "  inflating: data/cropped_flowers/sunflowers/8929288228_6795bcb1fe.jpg  \n",
            "  inflating: data/cropped_flowers/sunflowers/9206376642_8348ba5c7a.jpg  \n",
            "  inflating: data/cropped_flowers/sunflowers/9240129413_f240ce7866_n.jpg  \n",
            "  inflating: data/cropped_flowers/sunflowers/9375675309_987d32f99e_n.jpg  \n",
            "  inflating: data/cropped_flowers/sunflowers/9384867134_83af458a19_n.jpg  \n",
            "  inflating: data/cropped_flowers/sunflowers/9410186154_465642ed35.jpg  \n",
            "  inflating: data/cropped_flowers/sunflowers/9432335346_e298e47713_n.jpg  \n",
            "  inflating: data/cropped_flowers/sunflowers/9448615838_04078d09bf_n.jpg  \n",
            "  inflating: data/cropped_flowers/sunflowers/9497774935_a7daec5433_n.jpg  \n",
            "  inflating: data/cropped_flowers/sunflowers/9558627290_353a14ba0b_m.jpg  \n",
            "  inflating: data/cropped_flowers/sunflowers/9558628596_722c29ec60_m.jpg  \n",
            "  inflating: data/cropped_flowers/sunflowers/9558630626_52a1b7d702_m.jpg  \n",
            "  inflating: data/cropped_flowers/sunflowers/9558632814_e78a780f4f.jpg  \n",
            "  inflating: data/cropped_flowers/sunflowers/9610373748_b9cb67bd55.jpg  \n",
            "  inflating: data/cropped_flowers/sunflowers/9610374042_bb16cded3d.jpg  \n",
            "  inflating: data/cropped_flowers/sunflowers/9681915384_b3b646dc92_m.jpg  \n",
            "  inflating: data/cropped_flowers/sunflowers/9783416751_b2a03920f7_n.jpg  \n"
          ]
        }
      ]
    },
    {
      "cell_type": "markdown",
      "metadata": {
        "id": "C4w_ylwK3I9z"
      },
      "source": [
        "Contrastive Language-Image Pre-Training o [CLIP](https://github.com/openai/CLIP/tree/main) es una herramienta de codificación de texto e imagen utilizada con muchos modelos populares de IA Generativa como [DALL-E](https://openai.com/dall-e-2) y [Stable Diffusion](https://github.com/Stability-AI/stablediffusion).\n",
        "\n",
        "CLIP en sí mismo no es un modelo de IA Generativa, sino que se utiliza para alinear codificaciones de texto con codificaciones de imagen. Si existe la descripción textual perfecta de una imagen, el objetivo de CLIP es crear la misma incrustación vectorial tanto para la imagen como para el texto. Veamos qué significa esto en la práctica.\n",
        "\n",
        "Los objetivos de este cuaderno son:\n",
        "* Aprender a utilizar las codificaciones CLIP\n",
        "  * Obtener una codificación de imagen\n",
        "  * Obtener una codificación de texto\n",
        "  * Calcular la similitud coseno entre ellas\n",
        "* Usar CLIP para crear una red neuronal texto-imagen\n",
        "\n",
        "## 5.1 Codificaciones\n",
        "\n",
        "Primero, carguemos las librerías necesarias para este ejercicio."
      ]
    },
    {
      "cell_type": "code",
      "source": [
        "!pip install einops"
      ],
      "metadata": {
        "id": "AnMKUOJO5gtc",
        "colab": {
          "base_uri": "https://localhost:8080/",
          "height": 0
        },
        "outputId": "b2305b7d-3f81-4af7-db1b-a21b6f4201f8"
      },
      "execution_count": 2,
      "outputs": [
        {
          "output_type": "stream",
          "name": "stdout",
          "text": [
            "Collecting einops\n",
            "  Downloading einops-0.8.0-py3-none-any.whl.metadata (12 kB)\n",
            "Downloading einops-0.8.0-py3-none-any.whl (43 kB)\n",
            "\u001b[?25l   \u001b[90m━━━━━━━━━━━━━━━━━━━━━━━━━━━━━━━━━━━━━━━━\u001b[0m \u001b[32m0.0/43.2 kB\u001b[0m \u001b[31m?\u001b[0m eta \u001b[36m-:--:--\u001b[0m\r\u001b[2K   \u001b[90m━━━━━━━━━━━━━━━━━━━━━━━━━━━━━━━━━━━━━━━━\u001b[0m \u001b[32m43.2/43.2 kB\u001b[0m \u001b[31m4.0 MB/s\u001b[0m eta \u001b[36m0:00:00\u001b[0m\n",
            "\u001b[?25hInstalling collected packages: einops\n",
            "Successfully installed einops-0.8.0\n"
          ]
        }
      ]
    },
    {
      "cell_type": "code",
      "execution_count": 3,
      "metadata": {
        "id": "MWn2WgPaIoz8"
      },
      "outputs": [],
      "source": [
        "import glob\n",
        "import numpy as np\n",
        "import torch\n",
        "import torch.nn.functional as F\n",
        "from torch.optim import Adam\n",
        "import torchvision.transforms as transforms\n",
        "from torch.utils.data import Dataset, DataLoader\n",
        "\n",
        "# Visualization tools\n",
        "import matplotlib.pyplot as plt\n",
        "from PIL import Image\n",
        "from torchvision.utils import save_image, make_grid\n",
        "from textwrap import wrap\n",
        "\n",
        "# User defined libraries\n",
        "from utils import other_utils\n",
        "from utils import ddpm_utils\n",
        "from utils import UNet_utils\n",
        "\n",
        "device = torch.device(\"cuda\" if torch.cuda.is_available() else \"cpu\")"
      ]
    },
    {
      "cell_type": "markdown",
      "metadata": {
        "id": "rzzr4_DC3I9-"
      },
      "source": [
        "Existen algunas variantes de CLIP basadas en las redes neuronales de reconocimiento de imágenes más conocidas:"
      ]
    },
    {
      "cell_type": "code",
      "source": [
        "pip install openai-clip"
      ],
      "metadata": {
        "id": "r1e-hcYa5mBl",
        "colab": {
          "base_uri": "https://localhost:8080/",
          "height": 0
        },
        "outputId": "440f4da0-a9a1-4c9d-d905-d03f53dcbd73"
      },
      "execution_count": 4,
      "outputs": [
        {
          "output_type": "stream",
          "name": "stdout",
          "text": [
            "Collecting openai-clip\n",
            "  Downloading openai-clip-1.0.1.tar.gz (1.4 MB)\n",
            "\u001b[?25l     \u001b[90m━━━━━━━━━━━━━━━━━━━━━━━━━━━━━━━━━━━━━━━━\u001b[0m \u001b[32m0.0/1.4 MB\u001b[0m \u001b[31m?\u001b[0m eta \u001b[36m-:--:--\u001b[0m\r\u001b[2K     \u001b[91m━━━━━━━━━━━━━━━━━━━━━━━━━━━━━━━━━━━━━━━\u001b[0m\u001b[91m╸\u001b[0m \u001b[32m1.4/1.4 MB\u001b[0m \u001b[31m87.7 MB/s\u001b[0m eta \u001b[36m0:00:01\u001b[0m\r\u001b[2K     \u001b[90m━━━━━━━━━━━━━━━━━━━━━━━━━━━━━━━━━━━━━━━━\u001b[0m \u001b[32m1.4/1.4 MB\u001b[0m \u001b[31m37.2 MB/s\u001b[0m eta \u001b[36m0:00:00\u001b[0m\n",
            "\u001b[?25h  Preparing metadata (setup.py) ... \u001b[?25l\u001b[?25hdone\n",
            "Collecting ftfy (from openai-clip)\n",
            "  Downloading ftfy-6.2.0-py3-none-any.whl.metadata (7.3 kB)\n",
            "Requirement already satisfied: regex in /usr/local/lib/python3.10/dist-packages (from openai-clip) (2024.5.15)\n",
            "Requirement already satisfied: tqdm in /usr/local/lib/python3.10/dist-packages (from openai-clip) (4.66.4)\n",
            "Requirement already satisfied: wcwidth<0.3.0,>=0.2.12 in /usr/local/lib/python3.10/dist-packages (from ftfy->openai-clip) (0.2.13)\n",
            "Downloading ftfy-6.2.0-py3-none-any.whl (54 kB)\n",
            "\u001b[2K   \u001b[90m━━━━━━━━━━━━━━━━━━━━━━━━━━━━━━━━━━━━━━━━\u001b[0m \u001b[32m54.4/54.4 kB\u001b[0m \u001b[31m4.8 MB/s\u001b[0m eta \u001b[36m0:00:00\u001b[0m\n",
            "\u001b[?25hBuilding wheels for collected packages: openai-clip\n",
            "  Building wheel for openai-clip (setup.py) ... \u001b[?25l\u001b[?25hdone\n",
            "  Created wheel for openai-clip: filename=openai_clip-1.0.1-py3-none-any.whl size=1368606 sha256=fdf95fe7860291cb7816f3203b456f4c1063cf15c3ea2d98c87e60d5b0029b47\n",
            "  Stored in directory: /root/.cache/pip/wheels/08/77/8e/8d2f862df6bf7fb4e2007062d2cbaeae49862ec7b56d041229\n",
            "Successfully built openai-clip\n",
            "Installing collected packages: ftfy, openai-clip\n",
            "Successfully installed ftfy-6.2.0 openai-clip-1.0.1\n"
          ]
        }
      ]
    },
    {
      "cell_type": "code",
      "execution_count": 5,
      "metadata": {
        "id": "yIyHBg1n3I9_",
        "colab": {
          "base_uri": "https://localhost:8080/",
          "height": 0
        },
        "outputId": "f3b27e07-a674-4508-f9dc-3a60fc82120a"
      },
      "outputs": [
        {
          "output_type": "execute_result",
          "data": {
            "text/plain": [
              "['RN50',\n",
              " 'RN101',\n",
              " 'RN50x4',\n",
              " 'RN50x16',\n",
              " 'RN50x64',\n",
              " 'ViT-B/32',\n",
              " 'ViT-B/16',\n",
              " 'ViT-L/14',\n",
              " 'ViT-L/14@336px']"
            ]
          },
          "metadata": {},
          "execution_count": 5
        }
      ],
      "source": [
        "import clip\n",
        "\n",
        "clip.available_models()"
      ]
    },
    {
      "cell_type": "markdown",
      "metadata": {
        "id": "NvNEDSMh3I-A"
      },
      "source": [
        "Para este cuaderno, utilizaremos `ViT-B/32`, que se basa en la arquitectura [Vision Transformer](https://huggingface.co/docs/transformers/main/model_doc/vit). Dispone de 512 características, que más tarde introduciremos en nuestro modelo de difusión."
      ]
    },
    {
      "cell_type": "code",
      "execution_count": 6,
      "metadata": {
        "id": "F_JNloYH3I-A",
        "colab": {
          "base_uri": "https://localhost:8080/",
          "height": 0
        },
        "outputId": "f675f897-860a-401f-8270-0beea06c173e"
      },
      "outputs": [
        {
          "output_type": "stream",
          "name": "stderr",
          "text": [
            "100%|███████████████████████████████████████| 338M/338M [00:05<00:00, 67.2MiB/s]\n"
          ]
        }
      ],
      "source": [
        "clip_model, clip_preprocess = clip.load(\"ViT-B/32\")\n",
        "clip_model.eval()\n",
        "CLIP_FEATURES = 512"
      ]
    },
    {
      "cell_type": "markdown",
      "metadata": {
        "id": "5BP59jTf3I-B"
      },
      "source": [
        "### 5.1.1 Codificaciones de imagen"
      ]
    },
    {
      "cell_type": "markdown",
      "metadata": {
        "id": "eCfjFW4t3I-B"
      },
      "source": [
        "Cuando carguemos CLIP, también vendrá con un conjunto de transformaciones de imagen que podemos utilizar para introducir imágenes en el modelo CLIP:"
      ]
    },
    {
      "cell_type": "code",
      "execution_count": 7,
      "metadata": {
        "id": "gmUlZi4s3I-B",
        "colab": {
          "base_uri": "https://localhost:8080/",
          "height": 0
        },
        "outputId": "c2d1c0a1-2a23-4983-9fd4-bc2cd9fcbeab"
      },
      "outputs": [
        {
          "output_type": "execute_result",
          "data": {
            "text/plain": [
              "Compose(\n",
              "    Resize(size=224, interpolation=bicubic, max_size=None, antialias=True)\n",
              "    CenterCrop(size=(224, 224))\n",
              "    <function _convert_image_to_rgb at 0x7816852125f0>\n",
              "    ToTensor()\n",
              "    Normalize(mean=(0.48145466, 0.4578275, 0.40821073), std=(0.26862954, 0.26130258, 0.27577711))\n",
              ")"
            ]
          },
          "metadata": {},
          "execution_count": 7
        }
      ],
      "source": [
        "clip_preprocess"
      ]
    },
    {
      "cell_type": "markdown",
      "metadata": {
        "id": "IgFAHl_-3I-C"
      },
      "source": [
        "Podemos probarlo con una de nuestras fotos de flores. Empecemos con una pintoresca **margarita**."
      ]
    },
    {
      "cell_type": "code",
      "execution_count": 8,
      "metadata": {
        "id": "M3_G9Gkd3I-C"
      },
      "outputs": [],
      "source": [
        "DATA_DIR = \"data/cropped_flowers/\"\n",
        "img_path = DATA_DIR + \"daisy/2877860110_a842f8b14a_m.jpg\"\n",
        "img = Image.open(img_path)\n",
        "img.show()"
      ]
    },
    {
      "cell_type": "markdown",
      "metadata": {
        "id": "IWNrMNJk3I-C"
      },
      "source": [
        "Podemos encontrar la incrustación CLIP transformando primero nuestra imagen con `clip_preprocess` y convirtiendo el resultado en un tensor. Dado que el `clip_model` espera un lote de imágenes, podemos utilizar [np.stack](https://numpy.org/doc/stable/reference/generated/numpy.stack.html) para convertir la imagen procesada en un lote de un solo elemento."
      ]
    },
    {
      "cell_type": "code",
      "execution_count": 9,
      "metadata": {
        "id": "XRD64G803I-D",
        "colab": {
          "base_uri": "https://localhost:8080/",
          "height": 0
        },
        "outputId": "f7251226-4a17-4876-eacd-6583eb308b19"
      },
      "outputs": [
        {
          "output_type": "execute_result",
          "data": {
            "text/plain": [
              "torch.Size([1, 3, 224, 224])"
            ]
          },
          "metadata": {},
          "execution_count": 9
        }
      ],
      "source": [
        "clip_imgs = torch.tensor(np.stack([clip_preprocess(img)])).to(device)\n",
        "clip_imgs.size()"
      ]
    },
    {
      "cell_type": "markdown",
      "metadata": {
        "id": "UWuuw1ws3I-D"
      },
      "source": [
        "A continuación, podemos pasar el lote a `clip_model.encode_image` para encontrar la incrustación de la imagen. Descomenta `clip_img_encoding` si quieres ver cómo es una codificación. Cuando imprimimos el tamaño, aparece `512` características para nuestra imagen `1`."
      ]
    },
    {
      "cell_type": "code",
      "execution_count": 10,
      "metadata": {
        "id": "chFQyVdr3I-D",
        "colab": {
          "base_uri": "https://localhost:8080/",
          "height": 0
        },
        "outputId": "3e25cebb-c2d4-4e94-8d29-4da48b62c54c"
      },
      "outputs": [
        {
          "output_type": "stream",
          "name": "stdout",
          "text": [
            "torch.Size([1, 512])\n"
          ]
        }
      ],
      "source": [
        "clip_img_encoding = clip_model.encode_image(clip_imgs)\n",
        "print(clip_img_encoding.size())\n",
        "#clip_img_encoding"
      ]
    },
    {
      "cell_type": "markdown",
      "metadata": {
        "id": "hN-n07MG3I-E"
      },
      "source": [
        "### 5.1.2 Codificaciones de texto"
      ]
    },
    {
      "cell_type": "markdown",
      "metadata": {
        "id": "OhrXserP3I-F"
      },
      "source": [
        "Ahora que tenemos una codificación de imagen, veamos si podemos obtener una codificación de texto que se corresponda. A continuación se muestra una lista de diferentes descripciones de flores. Como en el caso de las imágenes, el texto debe ser preprocesado antes de ser codificado por CLIP. Para ello, CLIP incluye una función `tokenize` que convierte cada palabra en un número entero."
      ]
    },
    {
      "cell_type": "code",
      "execution_count": 11,
      "metadata": {
        "id": "OvzauJh23I-H",
        "colab": {
          "base_uri": "https://localhost:8080/",
          "height": 0
        },
        "outputId": "dad91064-8794-4164-b0bc-3bb9839d6b7c"
      },
      "outputs": [
        {
          "output_type": "execute_result",
          "data": {
            "text/plain": [
              "tensor([[49406,   320,  2522,  1579, 12865,   593,   320,  4481,  2119, 49407,\n",
              "             0,     0,     0,     0,     0,     0,     0,     0,     0,     0,\n",
              "             0,     0,     0,     0,     0,     0,     0,     0,     0,     0,\n",
              "             0,     0,     0,     0,     0,     0,     0,     0,     0,     0,\n",
              "             0,     0,     0,     0,     0,     0,     0,     0,     0,     0,\n",
              "             0,     0,     0,     0,     0,     0,     0,     0,     0,     0,\n",
              "             0,     0,     0,     0,     0,     0,     0,     0,     0,     0,\n",
              "             0,     0,     0,     0,     0,     0,     0],\n",
              "        [49406,   550,  4287, 21559,   593,   320,  1205,  2866,  2119, 49407,\n",
              "             0,     0,     0,     0,     0,     0,     0,     0,     0,     0,\n",
              "             0,     0,     0,     0,     0,     0,     0,     0,     0,     0,\n",
              "             0,     0,     0,     0,     0,     0,     0,     0,     0,     0,\n",
              "             0,     0,     0,     0,     0,     0,     0,     0,     0,     0,\n",
              "             0,     0,     0,     0,     0,     0,     0,     0,     0,     0,\n",
              "             0,     0,     0,     0,     0,     0,     0,     0,     0,     0,\n",
              "             0,     0,     0,     0,     0,     0,     0],\n",
              "        [49406,   320,   736,  3568, 10737, 49407,     0,     0,     0,     0,\n",
              "             0,     0,     0,     0,     0,     0,     0,     0,     0,     0,\n",
              "             0,     0,     0,     0,     0,     0,     0,     0,     0,     0,\n",
              "             0,     0,     0,     0,     0,     0,     0,     0,     0,     0,\n",
              "             0,     0,     0,     0,     0,     0,     0,     0,     0,     0,\n",
              "             0,     0,     0,     0,     0,     0,     0,     0,     0,     0,\n",
              "             0,     0,     0,     0,     0,     0,     0,     0,     0,     0,\n",
              "             0,     0,     0,     0,     0,     0,     0]], device='cuda:0',\n",
              "       dtype=torch.int32)"
            ]
          },
          "metadata": {},
          "execution_count": 11
        }
      ],
      "source": [
        "text_list = [\n",
        "    \"A round white daisy with a yellow center\",\n",
        "    \"An orange sunflower with a big brown center\",\n",
        "    \"A red rose bud\"\n",
        "]\n",
        "text_tokens = clip.tokenize(text_list).to(device)\n",
        "text_tokens"
      ]
    },
    {
      "cell_type": "markdown",
      "metadata": {
        "id": "nBKmpKV-3I-J"
      },
      "source": [
        "A continuación, podemos pasar los tokens a `encode_text` para obtener nuestras codificaciones de texto. Descomenta `clip_text_encodings` si quieres ver el aspecto de una codificación. Similar a nuestra codificación de imagen, hay `512` características para cada una de nuestras `3` imágenes."
      ]
    },
    {
      "cell_type": "code",
      "execution_count": 12,
      "metadata": {
        "id": "Q6dgPi2i3I-J",
        "colab": {
          "base_uri": "https://localhost:8080/",
          "height": 0
        },
        "outputId": "d03ae939-8136-4c97-c7e2-0d9606155600"
      },
      "outputs": [
        {
          "output_type": "stream",
          "name": "stdout",
          "text": [
            "torch.Size([3, 512])\n"
          ]
        }
      ],
      "source": [
        "clip_text_encodings = clip_model.encode_text(text_tokens).float()\n",
        "print(clip_text_encodings.size())\n",
        "#clip_text_encodings"
      ]
    },
    {
      "cell_type": "markdown",
      "metadata": {
        "id": "0icy_csk3I-K"
      },
      "source": [
        "### 5.1.3 Similaridad"
      ]
    },
    {
      "cell_type": "markdown",
      "metadata": {
        "id": "kuCK6M7l3I-K"
      },
      "source": [
        "Para ver cuál de nuestras descripciones de texto describe mejor la margarita, podemos calcular la [similitud de coseno](https://medium.com/@milana.shxanukova15/cosine-distance-and-cosine-similarity-a5da0e4d9ded) entre las codificaciones de texto y las codificaciones de imagen. Cuando la similitud de coseno es `1`, es una coincidencia perfecta. Cuando la similitud de coseno es `-1`, las dos codificaciones son opuestas.\n",
        "\n",
        "La similitud de coseno es equivalente a un [producto escalar](https://mathworld.wolfram.com/DotProduct.html) con cada vector normalizado por su magnitud. En otras palabras, la magnitud de cada vector se convierte en `1`.\n",
        "\n",
        "Podemos utilizar la siguiente fórmula para calcular el producto escalar:\n",
        "\n",
        "$X \\cdot Y = \\sum_{i=1}^{n} x_i y_i = x_1y_1 + x_2 y_2 + \\cdots + x_n y_n$\n",
        "\n",
        "Practiquémoslo un poco.\n",
        "\n",
        "Intentemos cambiar `x1`, `y1`, `x2` e `y2` por un valor entre -`1` y `1`. Cuando las flechas están alineadas, la similitud del coseno es `1`. Cuando las flechas apuntan en direcciones opuestas, la similitud es `-1`."
      ]
    },
    {
      "cell_type": "code",
      "execution_count": 13,
      "metadata": {
        "id": "5Q8eGlHO3I-L",
        "colab": {
          "base_uri": "https://localhost:8080/",
          "height": 452
        },
        "outputId": "a8fc125b-a6cb-43ec-c5f3-dcdb695bdc4e"
      },
      "outputs": [
        {
          "output_type": "display_data",
          "data": {
            "text/plain": [
              "<Figure size 640x480 with 1 Axes>"
            ],
            "image/png": "[encoded data removed]"
          },
          "metadata": {}
        },
        {
          "output_type": "stream",
          "name": "stdout",
          "text": [
            "Cosine Similarity: 0.0\n"
          ]
        }
      ],
      "source": [
        "x1, y1 = [0, 1] # Change me\n",
        "x2, y2 = [1, 0] # Change me\n",
        "\n",
        "p1 = [x1, y1]\n",
        "p2 = [x2, y2]\n",
        "\n",
        "arrow_width = 0.05\n",
        "plt.axis('square')\n",
        "plt.xlim(-1.5, 1.5)\n",
        "plt.ylim(-1.5, 1.5)\n",
        "plt.arrow(0, 0, x1, y1, width=arrow_width, color=\"black\")\n",
        "plt.arrow(0, 0, x2, y2, width=arrow_width, color=\"green\")\n",
        "plt.show()\n",
        "\n",
        "cosine = np.dot(p1, p2) / (np.linalg.norm(p1) * np.linalg.norm(p2))\n",
        "print(\"Cosine Similarity:\", cosine)"
      ]
    },
    {
      "cell_type": "markdown",
      "source": [
        "# Ejercico 1\n",
        "\n",
        "Crea nuevas celdas con el código de la celda anterior, probando los siguientes valores.\n",
        "\n",
        "`x1, y1 = [0, 0.5]` </br>\n",
        "`x2, y2 = [0, 1]`\n",
        "\n",
        "`x1, y1 = [0, -1]` </br>\n",
        "`x2, y2 = [0, 0.5]`\n",
        "\n",
        "`x1, y1 = [1, 1]` </br>\n",
        "`x2, y2 = [0, 1]`\n",
        "\n",
        "Para cada uno describe cuál es el significado del valor obtenido de la similaridad coseno."
      ],
      "metadata": {
        "id": "auaEoNovGfZQ"
      }
    },
    {
      "cell_type": "code",
      "source": [
        "x1, y1 = [0, 0.5] # Change me\n",
        "x2, y2 = [0, 1] # Change me\n",
        "\n",
        "p1 = [x1, y1]\n",
        "p2 = [x2, y2]\n",
        "\n",
        "arrow_width = 0.05\n",
        "plt.axis('square')\n",
        "plt.xlim(-1.5, 1.5)\n",
        "plt.ylim(-1.5, 1.5)\n",
        "plt.arrow(0, 0, x1, y1, width=arrow_width, color=\"black\")\n",
        "plt.arrow(0, 0, x2, y2, width=arrow_width, color=\"green\")\n",
        "plt.show()\n",
        "\n",
        "cosine = np.dot(p1, p2) / (np.linalg.norm(p1) * np.linalg.norm(p2))\n",
        "print(\"Cosine Similarity:\", cosine)"
      ],
      "metadata": {
        "colab": {
          "base_uri": "https://localhost:8080/",
          "height": 452
        },
        "id": "8_hdpy2rdJsW",
        "outputId": "f38e959c-574d-4a84-9f3b-ca412704a26c"
      },
      "execution_count": 15,
      "outputs": [
        {
          "output_type": "display_data",
          "data": {
            "text/plain": [
              "<Figure size 640x480 with 1 Axes>"
            ],
            "image/png": "[encoded data removed]"
          },
          "metadata": {}
        },
        {
          "output_type": "stream",
          "name": "stdout",
          "text": [
            "Cosine Similarity: 1.0\n"
          ]
        }
      ]
    },
    {
      "cell_type": "markdown",
      "source": [
        "**Esto indica que la descripción textual y la imagen están en perfecta concordancia. En otras palabras, la descripción textual dada representa exactamente lo que se muestra en la imagen , en este caso la margarita**"
      ],
      "metadata": {
        "id": "Et38h-EffR01"
      }
    },
    {
      "cell_type": "markdown",
      "source": [],
      "metadata": {
        "id": "p8MxX2IHeQ67"
      }
    },
    {
      "cell_type": "code",
      "source": [
        "x1, y1 = [0, -1] # Change me\n",
        "x2, y2 = [0, 0.5] # Change me\n",
        "\n",
        "p1 = [x1, y1]\n",
        "p2 = [x2, y2]\n",
        "\n",
        "arrow_width = 0.05\n",
        "plt.axis('square')\n",
        "plt.xlim(-1.5, 1.5)\n",
        "plt.ylim(-1.5, 1.5)\n",
        "plt.arrow(0, 0, x1, y1, width=arrow_width, color=\"black\")\n",
        "plt.arrow(0, 0, x2, y2, width=arrow_width, color=\"green\")\n",
        "plt.show()\n",
        "\n",
        "cosine = np.dot(p1, p2) / (np.linalg.norm(p1) * np.linalg.norm(p2))\n",
        "print(\"Cosine Similarity:\", cosine)"
      ],
      "metadata": {
        "colab": {
          "base_uri": "https://localhost:8080/",
          "height": 452
        },
        "id": "quZRalZ3dmnb",
        "outputId": "5272f0e7-5cc4-4b31-f605-016e9466f145"
      },
      "execution_count": 16,
      "outputs": [
        {
          "output_type": "display_data",
          "data": {
            "text/plain": [
              "<Figure size 640x480 with 1 Axes>"
            ],
            "image/png": "[encoded data removed]"
          },
          "metadata": {}
        },
        {
          "output_type": "stream",
          "name": "stdout",
          "text": [
            "Cosine Similarity: -1.0\n"
          ]
        }
      ]
    },
    {
      "cell_type": "markdown",
      "source": [
        "**En este caso, la descripción textual es completamente incorrecta o contraria a lo que muestra la imagen. Los conceptos que representan el texto y la imagen son totalmente opuestos, lo que significa que el texto esta describiendo una imagen totalmente diferente**"
      ],
      "metadata": {
        "id": "Sc0SUQ7zfYm0"
      }
    },
    {
      "cell_type": "code",
      "source": [
        "x1, y1 = [1, 1] # Change me\n",
        "x2, y2 = [0, 1] # Change me\n",
        "\n",
        "p1 = [x1, y1]\n",
        "p2 = [x2, y2]\n",
        "\n",
        "arrow_width = 0.05\n",
        "plt.axis('square')\n",
        "plt.xlim(-1.5, 1.5)\n",
        "plt.ylim(-1.5, 1.5)\n",
        "plt.arrow(0, 0, x1, y1, width=arrow_width, color=\"black\")\n",
        "plt.arrow(0, 0, x2, y2, width=arrow_width, color=\"green\")\n",
        "plt.show()\n",
        "\n",
        "cosine = np.dot(p1, p2) / (np.linalg.norm(p1) * np.linalg.norm(p2))\n",
        "print(\"Cosine Similarity:\", cosine)"
      ],
      "metadata": {
        "colab": {
          "base_uri": "https://localhost:8080/",
          "height": 452
        },
        "id": "ovWaEFeLdyBZ",
        "outputId": "81d71734-5726-49f3-ed16-47e858d81c19"
      },
      "execution_count": 17,
      "outputs": [
        {
          "output_type": "display_data",
          "data": {
            "text/plain": [
              "<Figure size 640x480 with 1 Axes>"
            ],
            "image/png": "[encoded data removed]"
          },
          "metadata": {}
        },
        {
          "output_type": "stream",
          "name": "stdout",
          "text": [
            "Cosine Similarity: 0.7071067811865475\n"
          ]
        }
      ]
    },
    {
      "cell_type": "markdown",
      "source": [
        "**En este caso, la descripción textual tiene una cierta relevancia con la imagen, pero no es una correspondencia exacta. Esto podría significar que la descripción es parcialmente correcta**"
      ],
      "metadata": {
        "id": "cLjma5aPfxSm"
      }
    },
    {
      "cell_type": "markdown",
      "metadata": {
        "id": "q48iIHMx3I-O"
      },
      "source": [
        "La similitud de cosenos también funciona con vectores multidimensionales, aunque son más difíciles de representar gráficamente en una superficie 2D."
      ]
    },
    {
      "cell_type": "code",
      "execution_count": 18,
      "metadata": {
        "id": "jXy3q79x3I-P",
        "colab": {
          "base_uri": "https://localhost:8080/",
          "height": 0
        },
        "outputId": "2cd17287-63bc-4d07-f911-e064b7bd9812"
      },
      "outputs": [
        {
          "output_type": "stream",
          "name": "stdout",
          "text": [
            "Cosine Similarity: 0.7004760286167305\n"
          ]
        }
      ],
      "source": [
        "p1 = [1, 8, 6, 7]\n",
        "p2 = [5, 3, 0, 9]\n",
        "\n",
        "cosine = np.dot(p1, p2) / (np.linalg.norm(p1) * np.linalg.norm(p2))\n",
        "print(\"Cosine Similarity:\", cosine)"
      ]
    },
    {
      "cell_type": "markdown",
      "metadata": {
        "id": "OL7fLQZW3I-R"
      },
      "source": [
        "Intentemos calcular la puntuación de similitud para nuestras codificaciones CLIP."
      ]
    },
    {
      "cell_type": "code",
      "execution_count": 19,
      "metadata": {
        "id": "vIKsDH2T3I-R",
        "colab": {
          "base_uri": "https://localhost:8080/",
          "height": 0
        },
        "outputId": "8e445b31-8a3c-4cb8-c482-7fee8ccd4391"
      },
      "outputs": [
        {
          "output_type": "execute_result",
          "data": {
            "text/plain": [
              "tensor([0.3707, 0.2473, 0.1768], device='cuda:0', grad_fn=<SumBackward1>)"
            ]
          },
          "metadata": {},
          "execution_count": 19
        }
      ],
      "source": [
        "clip_img_encoding /= clip_img_encoding.norm(dim=-1, keepdim=True)\n",
        "clip_text_encodings /= clip_text_encodings.norm(dim=-1, keepdim=True)\n",
        "similarity = (clip_text_encodings * clip_img_encoding).sum(-1)\n",
        "similarity"
      ]
    },
    {
      "cell_type": "markdown",
      "metadata": {
        "id": "mAqP1syU3I-R"
      },
      "source": [
        "A continuación imprimiremos cada texto seguido de su valor de similaridad."
      ]
    },
    {
      "cell_type": "code",
      "execution_count": 20,
      "metadata": {
        "id": "qAfamYwv3I-R",
        "colab": {
          "base_uri": "https://localhost:8080/",
          "height": 0
        },
        "outputId": "5ba9bf31-37fb-4842-b864-d419ce4ffb39"
      },
      "outputs": [
        {
          "output_type": "stream",
          "name": "stdout",
          "text": [
            "A round white daisy with a yellow center  -  tensor(0.3707, device='cuda:0', grad_fn=<SelectBackward0>)\n",
            "An orange sunflower with a big brown center  -  tensor(0.2473, device='cuda:0', grad_fn=<SelectBackward0>)\n",
            "A red rose bud  -  tensor(0.1768, device='cuda:0', grad_fn=<SelectBackward0>)\n"
          ]
        }
      ],
      "source": [
        "for idx, text in enumerate(text_list):\n",
        "    print(text, \" - \", similarity[idx])"
      ]
    },
    {
      "cell_type": "markdown",
      "source": [
        "# Ejercico 2\n",
        "\n",
        "**¿Cuál es el texto con mayor valor?**\n",
        "\n",
        "\"A round white daisy with a yellow center\" (0.3707, device='cuda:0', grad_fn=<SelectBackward0>).\n",
        "\n",
        "**¿El texto con mayor valor describe una margarita? ¿Por qué?**\n",
        "\n",
        "Si,  El valor de similitud más alto indica que esta descripción es la que mejor corresponde con la codificación de la imagen, que se presume es la de una margarita , esto debido a que se describe con mayor precisión los atributos de la imagen de la margarita, comparado con las otras descripciones proporcionadas. Esto sugiere que CLIP ha identificado correctamente la correspondencia entre la descripción textual y los elementos visuales presentes en la imagen de la margarita."
      ],
      "metadata": {
        "id": "f3C6EXEXHOhg"
      }
    },
    {
      "cell_type": "markdown",
      "metadata": {
        "id": "48GBgGBf3I-S"
      },
      "source": [
        "Practiquemos un poco más. A continuación, procesaremos la imagen de una **margarita, girasol y rosa**. hasta obtener su representación vectorial o embedding."
      ]
    },
    {
      "cell_type": "code",
      "execution_count": 21,
      "metadata": {
        "id": "NHYSC1kT3I-T"
      },
      "outputs": [],
      "source": [
        "img_paths = [\n",
        "    DATA_DIR + \"daisy/2877860110_a842f8b14a_m.jpg\",\n",
        "    DATA_DIR + \"sunflowers/2721638730_34a9b7a78b.jpg\",\n",
        "    DATA_DIR + \"roses/8032328803_30afac8b07_m.jpg\"\n",
        "]\n",
        "\n",
        "imgs = [Image.open(path) for path in img_paths]\n",
        "for img in imgs:\n",
        "    img.show()"
      ]
    },
    {
      "cell_type": "code",
      "execution_count": 22,
      "metadata": {
        "id": "oZBt5Jjg3I-d"
      },
      "outputs": [],
      "source": [
        "def get_img_encodings(imgs):\n",
        "    processed_imgs = [clip_preprocess(img) for img in imgs]\n",
        "    clip_imgs = torch.tensor(np.stack(processed_imgs)).to(device)\n",
        "    clip_img_encodings = clip_model.encode_image(clip_imgs)\n",
        "    return clip_img_encodings"
      ]
    },
    {
      "cell_type": "code",
      "execution_count": 23,
      "metadata": {
        "id": "gN1FSq2H3I-e",
        "colab": {
          "base_uri": "https://localhost:8080/",
          "height": 0
        },
        "outputId": "0d85066e-48f9-4215-8e5e-bf3250ba8c81"
      },
      "outputs": [
        {
          "output_type": "execute_result",
          "data": {
            "text/plain": [
              "tensor([[-0.2717, -0.0157, -0.1792,  ...,  0.5811,  0.0866, -0.1448],\n",
              "        [ 0.2595, -0.1020, -0.3438,  ..., -0.0073,  0.4958,  0.0819],\n",
              "        [-0.0620,  0.4136,  0.0090,  ...,  0.3269,  0.4626, -0.1388]],\n",
              "       device='cuda:0', dtype=torch.float16, grad_fn=<MmBackward0>)"
            ]
          },
          "metadata": {},
          "execution_count": 23
        }
      ],
      "source": [
        "clip_img_encodings = get_img_encodings(imgs)\n",
        "clip_img_encodings"
      ]
    },
    {
      "cell_type": "markdown",
      "metadata": {
        "id": "VlJPudMM3I-f"
      },
      "source": [
        "Ahora, calcularemos la representación vectorial o embedding de los siguientes textos."
      ]
    },
    {
      "cell_type": "code",
      "source": [
        "text_list = [\n",
        "    \"A round white daisy with a yellow center\", #\"Una margarita blanca redonda con un centro amarillo\",\n",
        "    \"An orange sunflower with a big brown center\", #\"Un girasol naranja con un gran centro marrón\",\n",
        "    \"A deep red rose flower\" #\"Una rosa de color rojo intenso\"\n",
        "]"
      ],
      "metadata": {
        "id": "cLnZdiXd7qsA"
      },
      "execution_count": 24,
      "outputs": []
    },
    {
      "cell_type": "code",
      "execution_count": 25,
      "metadata": {
        "id": "-4OAMmqU3I-q",
        "colab": {
          "base_uri": "https://localhost:8080/",
          "height": 0
        },
        "outputId": "d67f0c1f-8399-4140-fa97-579bce324955"
      },
      "outputs": [
        {
          "output_type": "execute_result",
          "data": {
            "text/plain": [
              "tensor([[-0.5107,  0.1919,  0.1963,  ...,  0.0949, -0.0848, -0.2783],\n",
              "        [ 0.0224,  0.3889,  0.3506,  ...,  0.1219,  0.0778, -0.1910],\n",
              "        [-0.1094,  0.0110,  0.3333,  ...,  0.1288, -0.1019, -0.1853]],\n",
              "       device='cuda:0', grad_fn=<ToCopyBackward0>)"
            ]
          },
          "metadata": {},
          "execution_count": 25
        }
      ],
      "source": [
        "text_tokens = clip.tokenize(text_list).to(device)\n",
        "clip_text_encodings = clip_model.encode_text(text_tokens).float()\n",
        "clip_text_encodings"
      ]
    },
    {
      "cell_type": "markdown",
      "metadata": {
        "id": "7JC89XnP3I-r"
      },
      "source": [
        "Sería bueno comparar cada combinación de texto e imagen. Para ello, podemos [repetir](https://pytorch.org/docs/stable/generated/torch.Tensor.repeat.html#torch.Tensor.repeat) cada codificación de texto para cada codificación de imagen. De manera similar, podemos [repetir_interleave](https://pytorch.org/docs/stable/generated/torch.repeat_interleave.html) cada codificación de imagen para cada codificación de texto."
      ]
    },
    {
      "cell_type": "code",
      "execution_count": 26,
      "metadata": {
        "id": "iZ--UUmD3I-r"
      },
      "outputs": [],
      "source": [
        "clip_img_encodings /= clip_img_encodings.norm(dim=-1, keepdim=True)\n",
        "clip_text_encodings /= clip_text_encodings.norm(dim=-1, keepdim=True)\n",
        "\n",
        "n_imgs = len(imgs)\n",
        "n_text = len(text_list)"
      ]
    },
    {
      "cell_type": "code",
      "execution_count": 27,
      "metadata": {
        "id": "L6yRsB9O3I-s",
        "colab": {
          "base_uri": "https://localhost:8080/",
          "height": 0
        },
        "outputId": "4f7fc168-f3f0-42fd-d05a-95124d815515"
      },
      "outputs": [
        {
          "output_type": "execute_result",
          "data": {
            "text/plain": [
              "tensor([[-0.0729,  0.0274,  0.0280,  ...,  0.0135, -0.0121, -0.0397],\n",
              "        [ 0.0031,  0.0545,  0.0492,  ...,  0.0171,  0.0109, -0.0268],\n",
              "        [-0.0135,  0.0014,  0.0410,  ...,  0.0158, -0.0125, -0.0228],\n",
              "        ...,\n",
              "        [-0.0729,  0.0274,  0.0280,  ...,  0.0135, -0.0121, -0.0397],\n",
              "        [ 0.0031,  0.0545,  0.0492,  ...,  0.0171,  0.0109, -0.0268],\n",
              "        [-0.0135,  0.0014,  0.0410,  ...,  0.0158, -0.0125, -0.0228]],\n",
              "       device='cuda:0', grad_fn=<RepeatBackward0>)"
            ]
          },
          "metadata": {},
          "execution_count": 27
        }
      ],
      "source": [
        "repeated_clip_text_encodings = clip_text_encodings.repeat(n_imgs, 1)\n",
        "repeated_clip_text_encodings"
      ]
    },
    {
      "cell_type": "code",
      "execution_count": 28,
      "metadata": {
        "id": "DYRDd90D3I-s",
        "colab": {
          "base_uri": "https://localhost:8080/",
          "height": 0
        },
        "outputId": "e3f8a1b2-0cd3-4616-f7c4-328efd334faa"
      },
      "outputs": [
        {
          "output_type": "execute_result",
          "data": {
            "text/plain": [
              "tensor([[-0.0247, -0.0014, -0.0163,  ...,  0.0528,  0.0079, -0.0132],\n",
              "        [-0.0247, -0.0014, -0.0163,  ...,  0.0528,  0.0079, -0.0132],\n",
              "        [-0.0247, -0.0014, -0.0163,  ...,  0.0528,  0.0079, -0.0132],\n",
              "        ...,\n",
              "        [-0.0053,  0.0356,  0.0008,  ...,  0.0282,  0.0399, -0.0120],\n",
              "        [-0.0053,  0.0356,  0.0008,  ...,  0.0282,  0.0399, -0.0120],\n",
              "        [-0.0053,  0.0356,  0.0008,  ...,  0.0282,  0.0399, -0.0120]],\n",
              "       device='cuda:0', dtype=torch.float16, grad_fn=<ViewBackward0>)"
            ]
          },
          "metadata": {},
          "execution_count": 28
        }
      ],
      "source": [
        "repeated_clip_img_encoding = clip_img_encodings.repeat_interleave(n_text, dim=0)\n",
        "repeated_clip_img_encoding"
      ]
    },
    {
      "cell_type": "code",
      "execution_count": 29,
      "metadata": {
        "id": "w_6jxMtn3I-t",
        "colab": {
          "base_uri": "https://localhost:8080/",
          "height": 0
        },
        "outputId": "d9d45b1b-5ebb-4f50-8f67-ee42b2ac0059"
      },
      "outputs": [
        {
          "output_type": "execute_result",
          "data": {
            "text/plain": [
              "tensor([[0.3705, 0.2471, 0.1943],\n",
              "        [0.2647, 0.2993, 0.1810],\n",
              "        [0.1700, 0.1754, 0.3078]], device='cuda:0', grad_fn=<ViewBackward0>)"
            ]
          },
          "metadata": {},
          "execution_count": 29
        }
      ],
      "source": [
        "similarity = (repeated_clip_text_encodings * repeated_clip_img_encoding).sum(-1)\n",
        "similarity = torch.unflatten(similarity, 0, (n_text, n_imgs))\n",
        "similarity"
      ]
    },
    {
      "cell_type": "markdown",
      "metadata": {
        "id": "kHhLLz_g3I-t"
      },
      "source": [
        "Comparemos. Lo ideal sería que la diagonal desde la parte superior izquierda hasta la inferior derecha fuera de un amarillo brillante, correspondiente a su valor alto. El resto de los valores deberían ser bajos y de color azul."
      ]
    },
    {
      "cell_type": "code",
      "execution_count": null,
      "metadata": {
        "id": "qNNdo9rt3I-u"
      },
      "outputs": [],
      "source": [
        "fig = plt.figure(figsize=(10, 10))\n",
        "gs = fig.add_gridspec(2, 3, wspace=.1, hspace=0)\n",
        "\n",
        "for i, img in enumerate(imgs):\n",
        "    ax = fig.add_subplot(gs[0, i])\n",
        "    ax.axis(\"off\")\n",
        "    plt.imshow(img)\n",
        "\n",
        "ax = fig.add_subplot(gs[1, :])\n",
        "plt.imshow(similarity.detach().cpu().numpy().T, vmin=0.1, vmax=0.3)\n",
        "\n",
        "text_list = [\n",
        "    \"Una margarita blanca redonda con un centro amarillo\",\n",
        "    \"Un girasol naranja con un gran centro marrón\",\n",
        "    \"Una rosa de color rojo intenso\"\n",
        "]\n",
        "\n",
        "labels = [ '\\n'.join(wrap(text, 20)) for text in text_list ]\n",
        "plt.yticks(range(n_text), labels, fontsize=10)\n",
        "plt.xticks([])\n",
        "\n",
        "for x in range(similarity.shape[1]):\n",
        "    for y in range(similarity.shape[0]):\n",
        "        plt.text(x, y, f\"{similarity[x, y]:.2f}\", ha=\"center\", va=\"center\", size=12)"
      ]
    },
    {
      "cell_type": "markdown",
      "source": [
        "# Ejercicio 3\n",
        "\n",
        "¿Son correctos los resultados? ¿Por qué?"
      ],
      "metadata": {
        "id": "kYxxfHvPMd2Y"
      }
    },
    {
      "cell_type": "markdown",
      "source": [
        "# Ejercicio 4\n",
        "\n",
        "Cree nuevas celdas en las cuales compare 3 imágenes de internet y 3 textos (en inglés).\n",
        "Ejemplo: Puede usar una foto de las pirámides de egipto, Machu Picchu y Cristo Redendor, luego crear 3 textos descriptivos en inglés e imprimir la matriz de similaridad (ya no vale usazr este ejemplo)."
      ],
      "metadata": {
        "id": "nUWde1uJMsNv"
      }
    },
    {
      "cell_type": "markdown",
      "metadata": {
        "id": "hT69gaDh3I-u"
      },
      "source": [
        "## 5.2 Un conjunto de datos CLIP"
      ]
    },
    {
      "cell_type": "markdown",
      "metadata": {
        "id": "lVlCukAI3I-u"
      },
      "source": [
        "En el cuaderno anterior, usamos la categoría de flores como etiqueta. Esta vez, vamos a usar las codificaciones CLIP como nuestra etiqueta.\n",
        "\n",
        "Si el objetivo de CLIP es alinear las codificaciones de texto con las codificaciones de imagen, ¿necesitamos una descripción de texto para cada una de las imágenes en nuestro conjunto de datos? Hipótesis: no necesitamos descripciones de texto y solo necesitamos las codificaciones CLIP de imagen para crear una secuencia de conversión de texto a imagen.\n",
        "\n",
        "Para probar esto, agreguemos las codificaciones CLIP como la \"etiqueta\" a nuestro conjunto de datos. Ejecutar CLIP en cada lote de imágenes aumentadas con datos sería más preciso, pero también es más lento. Podemos acelerar las cosas preprocesando y almacenando las codificaciones con anticipación.\n",
        "\n",
        "Podemos usar [glob](https://docs.python.org/3/library/glob.html) para enumerar todas las rutas de archivo de nuestras imágenes:"
      ]
    },
    {
      "cell_type": "code",
      "execution_count": null,
      "metadata": {
        "id": "-mwl27a23I-v"
      },
      "outputs": [],
      "source": [
        "data_paths = glob.glob(DATA_DIR + '*/*.jpg', recursive=True)\n",
        "data_paths[:5]"
      ]
    },
    {
      "cell_type": "markdown",
      "metadata": {
        "id": "wVnsP2wX3I-x"
      },
      "source": [
        "El siguiente bloque de código ejecuta el siguiente bucle para cada ruta de archivo:\n",
        "* Abrir la imagen asociada con la ruta y almacenarla en `img`\n",
        "* Preprocesar la imagen, buscar la codificación CLIP y almacenarla en `clip_img`\n",
        "* Convertir la codificación CLIP de un tensor a una lista de Python\n",
        "* Almacenar la ruta de archivo y la codificación CLIP como una fila en un archivo csv"
      ]
    },
    {
      "cell_type": "code",
      "execution_count": null,
      "metadata": {
        "id": "pKJZZBh73I-y"
      },
      "outputs": [],
      "source": [
        "import csv\n",
        "\n",
        "csv_path = 'clip.csv'\n",
        "\n",
        "with open(csv_path, 'w', newline='') as csvfile:\n",
        "    writer = csv.writer(csvfile, delimiter=',')\n",
        "    for idx, path in enumerate(data_paths):\n",
        "        img = Image.open(path)\n",
        "        clip_img = torch.tensor(np.stack([clip_preprocess(img)])).to(device)\n",
        "        label = clip_model.encode_image(clip_img)[0].tolist()\n",
        "        writer.writerow([path] + label)"
      ]
    },
    {
      "cell_type": "markdown",
      "metadata": {
        "id": "B3RAUVMh3I-4"
      },
      "source": [
        "Puede que el procesamiento del conjunto de datos completo tarde unos segundos. Cuando haya terminado, abra [clip.csv](clip.csv) para ver los resultados.\n",
        "\n",
        "Podemos utilizar las mismas transformaciones de imágenes que utilizamos con el otro cuaderno:"
      ]
    },
    {
      "cell_type": "code",
      "execution_count": null,
      "metadata": {
        "id": "r1xl67E53I-5"
      },
      "outputs": [],
      "source": [
        "IMG_SIZE = 32 # Due to stride and pooling, must be divisible by 2 multiple times\n",
        "IMG_CH = 3\n",
        "BATCH_SIZE = 128\n",
        "INPUT_SIZE = (IMG_CH, IMG_SIZE, IMG_SIZE)\n",
        "\n",
        "pre_transforms = [\n",
        "    transforms.Resize(IMG_SIZE),\n",
        "    transforms.ToTensor(),  # Scales data into [0,1]\n",
        "    transforms.Lambda(lambda t: (t * 2) - 1)  # Scale between [-1, 1]\n",
        "]\n",
        "pre_transforms = transforms.Compose(pre_transforms)\n",
        "random_transforms = [\n",
        "    transforms.RandomCrop(IMG_SIZE),\n",
        "    transforms.RandomHorizontalFlip(),\n",
        "]\n",
        "random_transforms = transforms.Compose(random_transforms)"
      ]
    },
    {
      "cell_type": "markdown",
      "metadata": {
        "id": "8vXKy04R3I-9"
      },
      "source": [
        "A continuación se muestra el código para inicializar nuestro nuevo conjunto de datos. Dado que hemos preprocesado el clip, lo cargaremos previamente en nuestra GPU con la función __init__. Hemos mantenido la codificación CLIP \"sobre la marcha\" como ejemplo. Producirá resultados ligeramente mejores, pero es mucho más lento."
      ]
    },
    {
      "cell_type": "code",
      "execution_count": null,
      "metadata": {
        "id": "xMydxEGy3I--"
      },
      "outputs": [],
      "source": [
        "class MyDataset(Dataset):\n",
        "    def __init__(self, csv_path, preprocessed_clip=True):\n",
        "        self.imgs = []\n",
        "        self.preprocessed_clip = preprocessed_clip\n",
        "        if preprocessed_clip:\n",
        "            self.labels = torch.empty(\n",
        "                len(data_paths), CLIP_FEATURES, dtype=torch.float, device=device\n",
        "            )\n",
        "\n",
        "        with open(csv_path, newline='') as csvfile:\n",
        "            reader = csv.reader(csvfile, delimiter=',')\n",
        "            for idx, row in enumerate(reader):\n",
        "                img = Image.open(row[0])\n",
        "                self.imgs.append(pre_transforms(img).to(device))\n",
        "                if preprocessed_clip:\n",
        "                    label = [float(x) for x in row[1:]]\n",
        "                    self.labels[idx, :] = torch.FloatTensor(label).to(device)\n",
        "\n",
        "    def __getitem__(self, idx):\n",
        "        img = random_transforms(self.imgs[idx])\n",
        "        if self.preprocessed_clip:\n",
        "            label = self.labels[idx]\n",
        "        else:\n",
        "            batch_img = img[None, :, :, :]\n",
        "            encoded_imgs = clip_model.encode_image(clip_preprocess(batch_img))\n",
        "            label = encoded_imgs.to(device).float()[0]\n",
        "        return img, label\n",
        "\n",
        "    def __len__(self):\n",
        "        return len(self.imgs)"
      ]
    },
    {
      "cell_type": "code",
      "execution_count": null,
      "metadata": {
        "id": "_IbU1Ghp3I-_"
      },
      "outputs": [],
      "source": [
        "train_data = MyDataset(csv_path)\n",
        "dataloader = DataLoader(train_data, batch_size=BATCH_SIZE, shuffle=True, drop_last=True)"
      ]
    },
    {
      "cell_type": "markdown",
      "metadata": {
        "id": "LqtopbhL3I-_"
      },
      "source": [
        "El modelo U-Net es la misma arquitectura que la última vez, pero con una pequeña diferencia. En lugar de utilizar la cantidad de clases como `c_embed_dim`, utilizaremos la cantidad de `CLIP_FEATURES`. La última vez, `c` podría haber significado \"clase\", pero esta vez, significa \"contexto\". Afortunadamente, ambos comienzan con `c`, por lo que no necesitamos refactorizar el código para reflejar este cambio en la intención."
      ]
    },
    {
      "cell_type": "code",
      "execution_count": null,
      "metadata": {
        "id": "JdJg3Y2p3I-_"
      },
      "outputs": [],
      "source": [
        "T = 400\n",
        "B_start = 0.0001\n",
        "B_end = 0.02\n",
        "B = torch.linspace(B_start, B_end, T).to(device)\n",
        "\n",
        "ddpm = ddpm_utils.DDPM(B, device)\n",
        "model = UNet_utils.UNet(\n",
        "    T, IMG_CH, IMG_SIZE, down_chs=(256, 256, 512), t_embed_dim=8, c_embed_dim=CLIP_FEATURES\n",
        ")\n",
        "print(\"Num params: \", sum(p.numel() for p in model.parameters()))\n",
        "model_flowers = torch.compile(model.to(device))"
      ]
    },
    {
      "cell_type": "markdown",
      "metadata": {
        "id": "aOOOigY63I_A"
      },
      "source": [
        "The `get_context_mask` function will change a little bit. Since we're replacing our categorical input with a CLIP embedding, we no longer need to one-hot encode our label. We'll still randomly set values in our encoding to `0` to help the model learn without context."
      ]
    },
    {
      "cell_type": "code",
      "execution_count": null,
      "metadata": {
        "id": "4UR8KUrm3I_A"
      },
      "outputs": [],
      "source": [
        "def get_context_mask(c, drop_prob):\n",
        "    c_mask = torch.bernoulli(torch.ones_like(c).float() - drop_prob).to(device)\n",
        "    return c_mask"
      ]
    },
    {
      "cell_type": "markdown",
      "metadata": {
        "id": "lxFCHmLb3I_B"
      },
      "source": [
        "Recreemos también la función `sample_flowers`. Esta vez, tomará nuestra `text_list` como parámetro y la convertirá a una codificación CLIP. La función `sample_w` sigue siendo prácticamente la misma y se ha movido al final de [ddpm_utils.py](utils/ddpm_utils.py)."
      ]
    },
    {
      "cell_type": "code",
      "execution_count": null,
      "metadata": {
        "id": "w87WOOct3I_B"
      },
      "outputs": [],
      "source": [
        "def sample_flowers(text_list):\n",
        "    text_tokens = clip.tokenize(text_list).to(device)\n",
        "    c = clip_model.encode_text(text_tokens).float()\n",
        "    x_gen, x_gen_store = ddpm_utils.sample_w(model, ddpm, INPUT_SIZE, T, c, device)\n",
        "    return x_gen, x_gen_store"
      ]
    },
    {
      "cell_type": "markdown",
      "metadata": {
        "id": "B0U1whnx3I_B"
      },
      "source": [
        "¡Es hora de entrenar! Después de aproximadamente 50 épocas, el modelo comenzará a generar algo reconocible y, en 100, alcanzará su máximo potencial. ¿Qué opinas? ¿Las imágenes generadas coinciden con tus descripciones?"
      ]
    },
    {
      "cell_type": "code",
      "execution_count": null,
      "metadata": {
        "id": "UBy4y1WP3I_C"
      },
      "outputs": [],
      "source": [
        "epochs=100\n",
        "c_drop_prob = 0.1\n",
        "lrate = 1e-4\n",
        "save_dir = \"05_images/\""
      ]
    },
    {
      "cell_type": "code",
      "execution_count": null,
      "metadata": {
        "id": "XLgUn_mg3I_C"
      },
      "outputs": [],
      "source": [
        "optimizer = torch.optim.Adam(model.parameters(), lr=lrate)\n",
        "\n",
        "model.train()\n",
        "for epoch in range(epochs):\n",
        "    for step, batch in enumerate(dataloader):\n",
        "        optimizer.zero_grad()\n",
        "        t = torch.randint(0, T, (BATCH_SIZE,), device=device).float()\n",
        "        x, c = batch\n",
        "        c_mask = get_context_mask(c, c_drop_prob)\n",
        "        loss = ddpm.get_loss(model_flowers, x, t, c, c_mask)\n",
        "        loss.backward()\n",
        "        optimizer.step()\n",
        "\n",
        "    print(f\"Epoch {epoch} | Step {step:03d} | Loss: {loss.item()}\")\n",
        "    if epoch % 5 == 0 or epoch == int(epochs - 1):\n",
        "        x_gen, x_gen_store = sample_flowers(text_list)\n",
        "        grid = make_grid(x_gen.cpu(), nrow=len(text_list))\n",
        "        save_image(grid, save_dir + f\"image_ep{epoch:02}.png\")\n",
        "        print(\"saved images in \" + save_dir + f\" for episode {epoch}\")"
      ]
    },
    {
      "cell_type": "markdown",
      "metadata": {
        "id": "GKnOYQkC3I_D"
      },
      "source": [
        "Ahora que el modelo está entrenado, ¡juguemos con él! ¿Qué sucede cuando le damos un mensaje de algo que no está en el conjunto de datos? ¿O puedes crear el mensaje perfecto para generar una imagen que puedas imaginar?\n",
        "\n",
        "El arte de crear un mensaje para obtener los resultados que deseas se llama **ingeniería de mensajes** y, como se muestra aquí, depende del tipo de datos con los que se entrena el modelo."
      ]
    },
    {
      "cell_type": "code",
      "execution_count": null,
      "metadata": {
        "id": "uAoEulc43I_D"
      },
      "outputs": [],
      "source": [
        "# Change me\n",
        "text_list = [\n",
        "    \"A daisy\",\n",
        "    \"A sunflower\",\n",
        "    \"A rose\"\n",
        "]\n",
        "\n",
        "model.eval()\n",
        "x_gen, x_gen_store = sample_flowers(text_list)\n",
        "grid = make_grid(x_gen.cpu(), nrow=len(text_list))\n",
        "other_utils.show_tensor_image([grid])\n",
        "plt.show()"
      ]
    },
    {
      "cell_type": "markdown",
      "metadata": {
        "id": "gRJU_n0n3I_E"
      },
      "source": [
        "Una vez que haya encontrado un conjunto de imágenes que le gusten, ejecute la celda a continuación para convertirla en una animación. Se guardará en [05_images/flowers.gif](05_images/flowers.gif)"
      ]
    },
    {
      "cell_type": "code",
      "execution_count": null,
      "metadata": {
        "id": "EBkxULE-3I_F"
      },
      "outputs": [],
      "source": [
        "grids = [other_utils.to_image(make_grid(x_gen.cpu(), nrow=len(text_list))) for x_gen in x_gen_store]\n",
        "other_utils.save_animation(grids, \"05_images/flowers.gif\")"
      ]
    },
    {
      "cell_type": "markdown",
      "source": [
        "# Ejercicio 5\n",
        "\n",
        "Cree nuevas celdas en las que genere 3 flores a partir de texto en inglés (A daisy..., A sunflower..., A rose...) pero con características especiales.\n",
        "\n",
        "Ejemplo (no vale usar el mismo):\n",
        "\n",
        "```\n",
        "text_list = [\n",
        "    \"A daisy with big petals\",\n",
        "    \"A sunflower with small center\",\n",
        "    \"A rose with dark tones\"\n",
        "]\n",
        "```\n",
        "\n"
      ],
      "metadata": {
        "id": "hivwMmzSNpN6"
      }
    },
    {
      "cell_type": "markdown",
      "metadata": {
        "id": "ZNhEUcn23I_F"
      },
      "source": [
        "## 5.3 Siguientes pasos"
      ]
    },
    {
      "cell_type": "markdown",
      "metadata": {
        "id": "bs2n4tPb3I_G"
      },
      "source": [
        "¡Felicitaciones por haber llegado al final del curso! Esperamos que hayas disfrutado del proceso y que hayas podido generar algo que valga la pena compartir con tus amigos y familiares.\n",
        "\n",
        "¿Estás listo para poner a prueba tus habilidades?"
      ]
    }
  ],
  "metadata": {
    "accelerator": "GPU",
    "colab": {
      "gpuType": "T4",
      "provenance": [],
      "include_colab_link": true
    },
    "kernelspec": {
      "display_name": "Python 3",
      "name": "python3"
    },
    "language_info": {
      "codemirror_mode": {
        "name": "ipython",
        "version": 3
      },
      "file_extension": ".py",
      "mimetype": "text/x-python",
      "name": "python",
      "nbconvert_exporter": "python",
      "pygments_lexer": "ipython3",
      "version": "3.10.6"
    }
  },
  "nbformat": 4,
  "nbformat_minor": 0
}